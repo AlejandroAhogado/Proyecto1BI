{
  "cells": [
    {
      "cell_type": "markdown",
      "metadata": {
        "id": "view-in-github",
        "colab_type": "text"
      },
      "source": [
        "<a href=\"https://colab.research.google.com/github/AlejandroAhogado/Proyecto1BI/blob/main/proyecto_1_FINAL.ipynb\" target=\"_parent\"><img src=\"https://colab.research.google.com/assets/colab-badge.svg\" alt=\"Open In Colab\"/></a>"
      ]
    },
    {
      "cell_type": "markdown",
      "metadata": {
        "id": "aW2ms9A6fvKl"
      },
      "source": [
        "# I. Importacion/Instalacion de librerias"
      ]
    },
    {
      "cell_type": "code",
      "execution_count": null,
      "metadata": {
        "colab": {
          "base_uri": "https://localhost:8080/"
        },
        "id": "sRIQubAcf4Rb",
        "outputId": "b7cac190-ce4e-44fe-9a8e-66987afca0ae"
      },
      "outputs": [
        {
          "name": "stdout",
          "output_type": "stream",
          "text": [
            "Requirement already satisfied: inflect in c:\\users\\jdscc\\anaconda3\\lib\\site-packages (6.0.0)\n",
            "Requirement already satisfied: pydantic in c:\\users\\jdscc\\anaconda3\\lib\\site-packages (from inflect) (1.8.2)\n",
            "Requirement already satisfied: typing-extensions>=3.7.4.3 in c:\\users\\jdscc\\anaconda3\\lib\\site-packages (from pydantic->inflect) (3.10.0.2)\n",
            "Requirement already satisfied: wordcloud in c:\\users\\jdscc\\anaconda3\\lib\\site-packages (1.8.2.2)\n",
            "Requirement already satisfied: pillow in c:\\users\\jdscc\\anaconda3\\lib\\site-packages (from wordcloud) (8.4.0)\n",
            "Requirement already satisfied: matplotlib in c:\\users\\jdscc\\anaconda3\\lib\\site-packages (from wordcloud) (3.4.3)\n",
            "Requirement already satisfied: numpy>=1.6.1 in c:\\users\\jdscc\\anaconda3\\lib\\site-packages (from wordcloud) (1.20.3)\n",
            "Requirement already satisfied: kiwisolver>=1.0.1 in c:\\users\\jdscc\\anaconda3\\lib\\site-packages (from matplotlib->wordcloud) (1.3.1)\n",
            "Requirement already satisfied: cycler>=0.10 in c:\\users\\jdscc\\anaconda3\\lib\\site-packages (from matplotlib->wordcloud) (0.10.0)\n",
            "Requirement already satisfied: pyparsing>=2.2.1 in c:\\users\\jdscc\\anaconda3\\lib\\site-packages (from matplotlib->wordcloud) (3.0.4)\n",
            "Requirement already satisfied: python-dateutil>=2.7 in c:\\users\\jdscc\\anaconda3\\lib\\site-packages (from matplotlib->wordcloud) (2.8.2)\n",
            "Requirement already satisfied: six in c:\\users\\jdscc\\anaconda3\\lib\\site-packages (from cycler>=0.10->matplotlib->wordcloud) (1.16.0)\n"
          ]
        },
        {
          "name": "stderr",
          "output_type": "stream",
          "text": [
            "[nltk_data] Downloading collection 'all'\n",
            "[nltk_data]    | \n",
            "[nltk_data]    | Downloading package abc to\n",
            "[nltk_data]    |     C:\\Users\\jdscc\\AppData\\Roaming\\nltk_data...\n",
            "[nltk_data]    |   Package abc is already up-to-date!\n",
            "[nltk_data]    | Downloading package alpino to\n",
            "[nltk_data]    |     C:\\Users\\jdscc\\AppData\\Roaming\\nltk_data...\n",
            "[nltk_data]    |   Package alpino is already up-to-date!\n",
            "[nltk_data]    | Downloading package averaged_perceptron_tagger to\n",
            "[nltk_data]    |     C:\\Users\\jdscc\\AppData\\Roaming\\nltk_data...\n",
            "[nltk_data]    |   Package averaged_perceptron_tagger is already up-\n",
            "[nltk_data]    |       to-date!\n",
            "[nltk_data]    | Downloading package averaged_perceptron_tagger_ru to\n",
            "[nltk_data]    |     C:\\Users\\jdscc\\AppData\\Roaming\\nltk_data...\n",
            "[nltk_data]    |   Package averaged_perceptron_tagger_ru is already\n",
            "[nltk_data]    |       up-to-date!\n",
            "[nltk_data]    | Downloading package basque_grammars to\n",
            "[nltk_data]    |     C:\\Users\\jdscc\\AppData\\Roaming\\nltk_data...\n",
            "[nltk_data]    |   Package basque_grammars is already up-to-date!\n",
            "[nltk_data]    | Downloading package biocreative_ppi to\n",
            "[nltk_data]    |     C:\\Users\\jdscc\\AppData\\Roaming\\nltk_data...\n",
            "[nltk_data]    |   Package biocreative_ppi is already up-to-date!\n",
            "[nltk_data]    | Downloading package bllip_wsj_no_aux to\n",
            "[nltk_data]    |     C:\\Users\\jdscc\\AppData\\Roaming\\nltk_data...\n",
            "[nltk_data]    |   Package bllip_wsj_no_aux is already up-to-date!\n",
            "[nltk_data]    | Downloading package book_grammars to\n",
            "[nltk_data]    |     C:\\Users\\jdscc\\AppData\\Roaming\\nltk_data...\n",
            "[nltk_data]    |   Package book_grammars is already up-to-date!\n",
            "[nltk_data]    | Downloading package brown to\n",
            "[nltk_data]    |     C:\\Users\\jdscc\\AppData\\Roaming\\nltk_data...\n",
            "[nltk_data]    |   Package brown is already up-to-date!\n",
            "[nltk_data]    | Downloading package brown_tei to\n",
            "[nltk_data]    |     C:\\Users\\jdscc\\AppData\\Roaming\\nltk_data...\n",
            "[nltk_data]    |   Package brown_tei is already up-to-date!\n",
            "[nltk_data]    | Downloading package cess_cat to\n",
            "[nltk_data]    |     C:\\Users\\jdscc\\AppData\\Roaming\\nltk_data...\n",
            "[nltk_data]    |   Package cess_cat is already up-to-date!\n",
            "[nltk_data]    | Downloading package cess_esp to\n",
            "[nltk_data]    |     C:\\Users\\jdscc\\AppData\\Roaming\\nltk_data...\n",
            "[nltk_data]    |   Package cess_esp is already up-to-date!\n",
            "[nltk_data]    | Downloading package chat80 to\n",
            "[nltk_data]    |     C:\\Users\\jdscc\\AppData\\Roaming\\nltk_data...\n",
            "[nltk_data]    |   Package chat80 is already up-to-date!\n",
            "[nltk_data]    | Downloading package city_database to\n",
            "[nltk_data]    |     C:\\Users\\jdscc\\AppData\\Roaming\\nltk_data...\n",
            "[nltk_data]    |   Package city_database is already up-to-date!\n",
            "[nltk_data]    | Downloading package cmudict to\n",
            "[nltk_data]    |     C:\\Users\\jdscc\\AppData\\Roaming\\nltk_data...\n",
            "[nltk_data]    |   Package cmudict is already up-to-date!\n",
            "[nltk_data]    | Downloading package comparative_sentences to\n",
            "[nltk_data]    |     C:\\Users\\jdscc\\AppData\\Roaming\\nltk_data...\n",
            "[nltk_data]    |   Package comparative_sentences is already up-to-\n",
            "[nltk_data]    |       date!\n",
            "[nltk_data]    | Downloading package comtrans to\n",
            "[nltk_data]    |     C:\\Users\\jdscc\\AppData\\Roaming\\nltk_data...\n",
            "[nltk_data]    |   Package comtrans is already up-to-date!\n",
            "[nltk_data]    | Downloading package conll2000 to\n",
            "[nltk_data]    |     C:\\Users\\jdscc\\AppData\\Roaming\\nltk_data...\n",
            "[nltk_data]    |   Package conll2000 is already up-to-date!\n",
            "[nltk_data]    | Downloading package conll2002 to\n",
            "[nltk_data]    |     C:\\Users\\jdscc\\AppData\\Roaming\\nltk_data...\n",
            "[nltk_data]    |   Package conll2002 is already up-to-date!\n",
            "[nltk_data]    | Downloading package conll2007 to\n",
            "[nltk_data]    |     C:\\Users\\jdscc\\AppData\\Roaming\\nltk_data...\n",
            "[nltk_data]    |   Package conll2007 is already up-to-date!\n",
            "[nltk_data]    | Downloading package crubadan to\n",
            "[nltk_data]    |     C:\\Users\\jdscc\\AppData\\Roaming\\nltk_data...\n",
            "[nltk_data]    |   Package crubadan is already up-to-date!\n",
            "[nltk_data]    | Downloading package dependency_treebank to\n",
            "[nltk_data]    |     C:\\Users\\jdscc\\AppData\\Roaming\\nltk_data...\n",
            "[nltk_data]    |   Package dependency_treebank is already up-to-date!\n",
            "[nltk_data]    | Downloading package dolch to\n",
            "[nltk_data]    |     C:\\Users\\jdscc\\AppData\\Roaming\\nltk_data...\n",
            "[nltk_data]    |   Package dolch is already up-to-date!\n",
            "[nltk_data]    | Downloading package europarl_raw to\n",
            "[nltk_data]    |     C:\\Users\\jdscc\\AppData\\Roaming\\nltk_data...\n",
            "[nltk_data]    |   Package europarl_raw is already up-to-date!\n",
            "[nltk_data]    | Downloading package extended_omw to\n",
            "[nltk_data]    |     C:\\Users\\jdscc\\AppData\\Roaming\\nltk_data...\n",
            "[nltk_data]    |   Package extended_omw is already up-to-date!\n",
            "[nltk_data]    | Downloading package floresta to\n",
            "[nltk_data]    |     C:\\Users\\jdscc\\AppData\\Roaming\\nltk_data...\n",
            "[nltk_data]    |   Package floresta is already up-to-date!\n",
            "[nltk_data]    | Downloading package framenet_v15 to\n",
            "[nltk_data]    |     C:\\Users\\jdscc\\AppData\\Roaming\\nltk_data...\n",
            "[nltk_data]    |   Package framenet_v15 is already up-to-date!\n",
            "[nltk_data]    | Downloading package framenet_v17 to\n",
            "[nltk_data]    |     C:\\Users\\jdscc\\AppData\\Roaming\\nltk_data...\n",
            "[nltk_data]    |   Package framenet_v17 is already up-to-date!\n",
            "[nltk_data]    | Downloading package gazetteers to\n",
            "[nltk_data]    |     C:\\Users\\jdscc\\AppData\\Roaming\\nltk_data...\n",
            "[nltk_data]    |   Package gazetteers is already up-to-date!\n",
            "[nltk_data]    | Downloading package genesis to\n",
            "[nltk_data]    |     C:\\Users\\jdscc\\AppData\\Roaming\\nltk_data...\n",
            "[nltk_data]    |   Package genesis is already up-to-date!\n",
            "[nltk_data]    | Downloading package gutenberg to\n",
            "[nltk_data]    |     C:\\Users\\jdscc\\AppData\\Roaming\\nltk_data...\n",
            "[nltk_data]    |   Package gutenberg is already up-to-date!\n",
            "[nltk_data]    | Downloading package ieer to\n",
            "[nltk_data]    |     C:\\Users\\jdscc\\AppData\\Roaming\\nltk_data...\n",
            "[nltk_data]    |   Package ieer is already up-to-date!\n",
            "[nltk_data]    | Downloading package inaugural to\n",
            "[nltk_data]    |     C:\\Users\\jdscc\\AppData\\Roaming\\nltk_data...\n",
            "[nltk_data]    |   Package inaugural is already up-to-date!\n",
            "[nltk_data]    | Downloading package indian to\n",
            "[nltk_data]    |     C:\\Users\\jdscc\\AppData\\Roaming\\nltk_data...\n",
            "[nltk_data]    |   Package indian is already up-to-date!\n",
            "[nltk_data]    | Downloading package jeita to\n",
            "[nltk_data]    |     C:\\Users\\jdscc\\AppData\\Roaming\\nltk_data...\n",
            "[nltk_data]    |   Package jeita is already up-to-date!\n",
            "[nltk_data]    | Downloading package kimmo to\n",
            "[nltk_data]    |     C:\\Users\\jdscc\\AppData\\Roaming\\nltk_data...\n",
            "[nltk_data]    |   Package kimmo is already up-to-date!\n",
            "[nltk_data]    | Downloading package knbc to\n",
            "[nltk_data]    |     C:\\Users\\jdscc\\AppData\\Roaming\\nltk_data...\n",
            "[nltk_data]    |   Package knbc is already up-to-date!\n",
            "[nltk_data]    | Downloading package large_grammars to\n",
            "[nltk_data]    |     C:\\Users\\jdscc\\AppData\\Roaming\\nltk_data...\n",
            "[nltk_data]    |   Package large_grammars is already up-to-date!\n",
            "[nltk_data]    | Downloading package lin_thesaurus to\n",
            "[nltk_data]    |     C:\\Users\\jdscc\\AppData\\Roaming\\nltk_data...\n",
            "[nltk_data]    |   Package lin_thesaurus is already up-to-date!\n",
            "[nltk_data]    | Downloading package mac_morpho to\n",
            "[nltk_data]    |     C:\\Users\\jdscc\\AppData\\Roaming\\nltk_data...\n",
            "[nltk_data]    |   Package mac_morpho is already up-to-date!\n",
            "[nltk_data]    | Downloading package machado to\n",
            "[nltk_data]    |     C:\\Users\\jdscc\\AppData\\Roaming\\nltk_data...\n",
            "[nltk_data]    |   Package machado is already up-to-date!\n",
            "[nltk_data]    | Downloading package masc_tagged to\n",
            "[nltk_data]    |     C:\\Users\\jdscc\\AppData\\Roaming\\nltk_data...\n",
            "[nltk_data]    |   Package masc_tagged is already up-to-date!\n",
            "[nltk_data]    | Downloading package maxent_ne_chunker to\n",
            "[nltk_data]    |     C:\\Users\\jdscc\\AppData\\Roaming\\nltk_data...\n",
            "[nltk_data]    |   Package maxent_ne_chunker is already up-to-date!\n",
            "[nltk_data]    | Downloading package maxent_treebank_pos_tagger to\n",
            "[nltk_data]    |     C:\\Users\\jdscc\\AppData\\Roaming\\nltk_data...\n",
            "[nltk_data]    |   Package maxent_treebank_pos_tagger is already up-\n",
            "[nltk_data]    |       to-date!\n",
            "[nltk_data]    | Downloading package moses_sample to\n",
            "[nltk_data]    |     C:\\Users\\jdscc\\AppData\\Roaming\\nltk_data...\n",
            "[nltk_data]    |   Package moses_sample is already up-to-date!\n",
            "[nltk_data]    | Downloading package movie_reviews to\n",
            "[nltk_data]    |     C:\\Users\\jdscc\\AppData\\Roaming\\nltk_data...\n",
            "[nltk_data]    |   Package movie_reviews is already up-to-date!\n",
            "[nltk_data]    | Downloading package mte_teip5 to\n",
            "[nltk_data]    |     C:\\Users\\jdscc\\AppData\\Roaming\\nltk_data...\n",
            "[nltk_data]    |   Package mte_teip5 is already up-to-date!\n",
            "[nltk_data]    | Downloading package mwa_ppdb to\n",
            "[nltk_data]    |     C:\\Users\\jdscc\\AppData\\Roaming\\nltk_data...\n",
            "[nltk_data]    |   Package mwa_ppdb is already up-to-date!\n",
            "[nltk_data]    | Downloading package names to\n",
            "[nltk_data]    |     C:\\Users\\jdscc\\AppData\\Roaming\\nltk_data...\n",
            "[nltk_data]    |   Package names is already up-to-date!\n",
            "[nltk_data]    | Downloading package nombank.1.0 to\n",
            "[nltk_data]    |     C:\\Users\\jdscc\\AppData\\Roaming\\nltk_data...\n",
            "[nltk_data]    |   Package nombank.1.0 is already up-to-date!\n",
            "[nltk_data]    | Downloading package nonbreaking_prefixes to\n",
            "[nltk_data]    |     C:\\Users\\jdscc\\AppData\\Roaming\\nltk_data...\n",
            "[nltk_data]    |   Package nonbreaking_prefixes is already up-to-date!\n",
            "[nltk_data]    | Downloading package nps_chat to\n",
            "[nltk_data]    |     C:\\Users\\jdscc\\AppData\\Roaming\\nltk_data...\n",
            "[nltk_data]    |   Package nps_chat is already up-to-date!\n",
            "[nltk_data]    | Downloading package omw to\n",
            "[nltk_data]    |     C:\\Users\\jdscc\\AppData\\Roaming\\nltk_data...\n",
            "[nltk_data]    |   Package omw is already up-to-date!\n",
            "[nltk_data]    | Downloading package omw-1.4 to\n",
            "[nltk_data]    |     C:\\Users\\jdscc\\AppData\\Roaming\\nltk_data...\n"
          ]
        },
        {
          "name": "stderr",
          "output_type": "stream",
          "text": [
            "[nltk_data]    |   Package omw-1.4 is already up-to-date!\n",
            "[nltk_data]    | Downloading package opinion_lexicon to\n",
            "[nltk_data]    |     C:\\Users\\jdscc\\AppData\\Roaming\\nltk_data...\n",
            "[nltk_data]    |   Package opinion_lexicon is already up-to-date!\n",
            "[nltk_data]    | Downloading package panlex_swadesh to\n",
            "[nltk_data]    |     C:\\Users\\jdscc\\AppData\\Roaming\\nltk_data...\n",
            "[nltk_data]    |   Package panlex_swadesh is already up-to-date!\n",
            "[nltk_data]    | Downloading package paradigms to\n",
            "[nltk_data]    |     C:\\Users\\jdscc\\AppData\\Roaming\\nltk_data...\n",
            "[nltk_data]    |   Package paradigms is already up-to-date!\n",
            "[nltk_data]    | Downloading package pe08 to\n",
            "[nltk_data]    |     C:\\Users\\jdscc\\AppData\\Roaming\\nltk_data...\n",
            "[nltk_data]    |   Package pe08 is already up-to-date!\n",
            "[nltk_data]    | Downloading package perluniprops to\n",
            "[nltk_data]    |     C:\\Users\\jdscc\\AppData\\Roaming\\nltk_data...\n",
            "[nltk_data]    |   Package perluniprops is already up-to-date!\n",
            "[nltk_data]    | Downloading package pil to\n",
            "[nltk_data]    |     C:\\Users\\jdscc\\AppData\\Roaming\\nltk_data...\n",
            "[nltk_data]    |   Package pil is already up-to-date!\n",
            "[nltk_data]    | Downloading package pl196x to\n",
            "[nltk_data]    |     C:\\Users\\jdscc\\AppData\\Roaming\\nltk_data...\n",
            "[nltk_data]    |   Package pl196x is already up-to-date!\n",
            "[nltk_data]    | Downloading package porter_test to\n",
            "[nltk_data]    |     C:\\Users\\jdscc\\AppData\\Roaming\\nltk_data...\n",
            "[nltk_data]    |   Package porter_test is already up-to-date!\n",
            "[nltk_data]    | Downloading package ppattach to\n",
            "[nltk_data]    |     C:\\Users\\jdscc\\AppData\\Roaming\\nltk_data...\n",
            "[nltk_data]    |   Package ppattach is already up-to-date!\n",
            "[nltk_data]    | Downloading package problem_reports to\n",
            "[nltk_data]    |     C:\\Users\\jdscc\\AppData\\Roaming\\nltk_data...\n",
            "[nltk_data]    |   Package problem_reports is already up-to-date!\n",
            "[nltk_data]    | Downloading package product_reviews_1 to\n",
            "[nltk_data]    |     C:\\Users\\jdscc\\AppData\\Roaming\\nltk_data...\n",
            "[nltk_data]    |   Package product_reviews_1 is already up-to-date!\n",
            "[nltk_data]    | Downloading package product_reviews_2 to\n",
            "[nltk_data]    |     C:\\Users\\jdscc\\AppData\\Roaming\\nltk_data...\n",
            "[nltk_data]    |   Package product_reviews_2 is already up-to-date!\n",
            "[nltk_data]    | Downloading package propbank to\n",
            "[nltk_data]    |     C:\\Users\\jdscc\\AppData\\Roaming\\nltk_data...\n",
            "[nltk_data]    |   Package propbank is already up-to-date!\n",
            "[nltk_data]    | Downloading package pros_cons to\n",
            "[nltk_data]    |     C:\\Users\\jdscc\\AppData\\Roaming\\nltk_data...\n",
            "[nltk_data]    |   Package pros_cons is already up-to-date!\n",
            "[nltk_data]    | Downloading package ptb to\n",
            "[nltk_data]    |     C:\\Users\\jdscc\\AppData\\Roaming\\nltk_data...\n",
            "[nltk_data]    |   Package ptb is already up-to-date!\n",
            "[nltk_data]    | Downloading package punkt to\n",
            "[nltk_data]    |     C:\\Users\\jdscc\\AppData\\Roaming\\nltk_data...\n",
            "[nltk_data]    |   Package punkt is already up-to-date!\n",
            "[nltk_data]    | Downloading package qc to\n",
            "[nltk_data]    |     C:\\Users\\jdscc\\AppData\\Roaming\\nltk_data...\n",
            "[nltk_data]    |   Package qc is already up-to-date!\n",
            "[nltk_data]    | Downloading package reuters to\n",
            "[nltk_data]    |     C:\\Users\\jdscc\\AppData\\Roaming\\nltk_data...\n",
            "[nltk_data]    |   Package reuters is already up-to-date!\n",
            "[nltk_data]    | Downloading package rslp to\n",
            "[nltk_data]    |     C:\\Users\\jdscc\\AppData\\Roaming\\nltk_data...\n",
            "[nltk_data]    |   Package rslp is already up-to-date!\n",
            "[nltk_data]    | Downloading package rte to\n",
            "[nltk_data]    |     C:\\Users\\jdscc\\AppData\\Roaming\\nltk_data...\n",
            "[nltk_data]    |   Package rte is already up-to-date!\n",
            "[nltk_data]    | Downloading package sample_grammars to\n",
            "[nltk_data]    |     C:\\Users\\jdscc\\AppData\\Roaming\\nltk_data...\n",
            "[nltk_data]    |   Package sample_grammars is already up-to-date!\n",
            "[nltk_data]    | Downloading package semcor to\n",
            "[nltk_data]    |     C:\\Users\\jdscc\\AppData\\Roaming\\nltk_data...\n",
            "[nltk_data]    |   Package semcor is already up-to-date!\n",
            "[nltk_data]    | Downloading package senseval to\n",
            "[nltk_data]    |     C:\\Users\\jdscc\\AppData\\Roaming\\nltk_data...\n",
            "[nltk_data]    |   Package senseval is already up-to-date!\n",
            "[nltk_data]    | Downloading package sentence_polarity to\n",
            "[nltk_data]    |     C:\\Users\\jdscc\\AppData\\Roaming\\nltk_data...\n",
            "[nltk_data]    |   Package sentence_polarity is already up-to-date!\n",
            "[nltk_data]    | Downloading package sentiwordnet to\n",
            "[nltk_data]    |     C:\\Users\\jdscc\\AppData\\Roaming\\nltk_data...\n",
            "[nltk_data]    |   Package sentiwordnet is already up-to-date!\n",
            "[nltk_data]    | Downloading package shakespeare to\n",
            "[nltk_data]    |     C:\\Users\\jdscc\\AppData\\Roaming\\nltk_data...\n",
            "[nltk_data]    |   Package shakespeare is already up-to-date!\n",
            "[nltk_data]    | Downloading package sinica_treebank to\n",
            "[nltk_data]    |     C:\\Users\\jdscc\\AppData\\Roaming\\nltk_data...\n",
            "[nltk_data]    |   Package sinica_treebank is already up-to-date!\n",
            "[nltk_data]    | Downloading package smultron to\n",
            "[nltk_data]    |     C:\\Users\\jdscc\\AppData\\Roaming\\nltk_data...\n",
            "[nltk_data]    |   Package smultron is already up-to-date!\n",
            "[nltk_data]    | Downloading package snowball_data to\n",
            "[nltk_data]    |     C:\\Users\\jdscc\\AppData\\Roaming\\nltk_data...\n",
            "[nltk_data]    |   Package snowball_data is already up-to-date!\n",
            "[nltk_data]    | Downloading package spanish_grammars to\n",
            "[nltk_data]    |     C:\\Users\\jdscc\\AppData\\Roaming\\nltk_data...\n",
            "[nltk_data]    |   Package spanish_grammars is already up-to-date!\n",
            "[nltk_data]    | Downloading package state_union to\n",
            "[nltk_data]    |     C:\\Users\\jdscc\\AppData\\Roaming\\nltk_data...\n",
            "[nltk_data]    |   Package state_union is already up-to-date!\n",
            "[nltk_data]    | Downloading package stopwords to\n",
            "[nltk_data]    |     C:\\Users\\jdscc\\AppData\\Roaming\\nltk_data...\n",
            "[nltk_data]    |   Package stopwords is already up-to-date!\n",
            "[nltk_data]    | Downloading package subjectivity to\n",
            "[nltk_data]    |     C:\\Users\\jdscc\\AppData\\Roaming\\nltk_data...\n",
            "[nltk_data]    |   Package subjectivity is already up-to-date!\n",
            "[nltk_data]    | Downloading package swadesh to\n",
            "[nltk_data]    |     C:\\Users\\jdscc\\AppData\\Roaming\\nltk_data...\n",
            "[nltk_data]    |   Package swadesh is already up-to-date!\n",
            "[nltk_data]    | Downloading package switchboard to\n",
            "[nltk_data]    |     C:\\Users\\jdscc\\AppData\\Roaming\\nltk_data...\n",
            "[nltk_data]    |   Package switchboard is already up-to-date!\n",
            "[nltk_data]    | Downloading package tagsets to\n",
            "[nltk_data]    |     C:\\Users\\jdscc\\AppData\\Roaming\\nltk_data...\n",
            "[nltk_data]    |   Package tagsets is already up-to-date!\n",
            "[nltk_data]    | Downloading package timit to\n",
            "[nltk_data]    |     C:\\Users\\jdscc\\AppData\\Roaming\\nltk_data...\n",
            "[nltk_data]    |   Package timit is already up-to-date!\n",
            "[nltk_data]    | Downloading package toolbox to\n",
            "[nltk_data]    |     C:\\Users\\jdscc\\AppData\\Roaming\\nltk_data...\n",
            "[nltk_data]    |   Package toolbox is already up-to-date!\n",
            "[nltk_data]    | Downloading package treebank to\n",
            "[nltk_data]    |     C:\\Users\\jdscc\\AppData\\Roaming\\nltk_data...\n",
            "[nltk_data]    |   Package treebank is already up-to-date!\n",
            "[nltk_data]    | Downloading package twitter_samples to\n",
            "[nltk_data]    |     C:\\Users\\jdscc\\AppData\\Roaming\\nltk_data...\n",
            "[nltk_data]    |   Package twitter_samples is already up-to-date!\n",
            "[nltk_data]    | Downloading package udhr to\n",
            "[nltk_data]    |     C:\\Users\\jdscc\\AppData\\Roaming\\nltk_data...\n",
            "[nltk_data]    |   Package udhr is already up-to-date!\n",
            "[nltk_data]    | Downloading package udhr2 to\n",
            "[nltk_data]    |     C:\\Users\\jdscc\\AppData\\Roaming\\nltk_data...\n",
            "[nltk_data]    |   Package udhr2 is already up-to-date!\n",
            "[nltk_data]    | Downloading package unicode_samples to\n",
            "[nltk_data]    |     C:\\Users\\jdscc\\AppData\\Roaming\\nltk_data...\n",
            "[nltk_data]    |   Package unicode_samples is already up-to-date!\n",
            "[nltk_data]    | Downloading package universal_tagset to\n",
            "[nltk_data]    |     C:\\Users\\jdscc\\AppData\\Roaming\\nltk_data...\n",
            "[nltk_data]    |   Package universal_tagset is already up-to-date!\n",
            "[nltk_data]    | Downloading package universal_treebanks_v20 to\n",
            "[nltk_data]    |     C:\\Users\\jdscc\\AppData\\Roaming\\nltk_data...\n",
            "[nltk_data]    |   Package universal_treebanks_v20 is already up-to-\n",
            "[nltk_data]    |       date!\n",
            "[nltk_data]    | Downloading package vader_lexicon to\n",
            "[nltk_data]    |     C:\\Users\\jdscc\\AppData\\Roaming\\nltk_data...\n",
            "[nltk_data]    |   Package vader_lexicon is already up-to-date!\n",
            "[nltk_data]    | Downloading package verbnet to\n",
            "[nltk_data]    |     C:\\Users\\jdscc\\AppData\\Roaming\\nltk_data...\n",
            "[nltk_data]    |   Package verbnet is already up-to-date!\n",
            "[nltk_data]    | Downloading package verbnet3 to\n",
            "[nltk_data]    |     C:\\Users\\jdscc\\AppData\\Roaming\\nltk_data...\n",
            "[nltk_data]    |   Package verbnet3 is already up-to-date!\n",
            "[nltk_data]    | Downloading package webtext to\n",
            "[nltk_data]    |     C:\\Users\\jdscc\\AppData\\Roaming\\nltk_data...\n",
            "[nltk_data]    |   Package webtext is already up-to-date!\n",
            "[nltk_data]    | Downloading package wmt15_eval to\n",
            "[nltk_data]    |     C:\\Users\\jdscc\\AppData\\Roaming\\nltk_data...\n",
            "[nltk_data]    |   Package wmt15_eval is already up-to-date!\n",
            "[nltk_data]    | Downloading package word2vec_sample to\n",
            "[nltk_data]    |     C:\\Users\\jdscc\\AppData\\Roaming\\nltk_data...\n"
          ]
        },
        {
          "name": "stderr",
          "output_type": "stream",
          "text": [
            "[nltk_data]    |   Package word2vec_sample is already up-to-date!\n",
            "[nltk_data]    | Downloading package wordnet to\n",
            "[nltk_data]    |     C:\\Users\\jdscc\\AppData\\Roaming\\nltk_data...\n",
            "[nltk_data]    |   Package wordnet is already up-to-date!\n",
            "[nltk_data]    | Downloading package wordnet2021 to\n",
            "[nltk_data]    |     C:\\Users\\jdscc\\AppData\\Roaming\\nltk_data...\n",
            "[nltk_data]    |   Package wordnet2021 is already up-to-date!\n",
            "[nltk_data]    | Downloading package wordnet31 to\n",
            "[nltk_data]    |     C:\\Users\\jdscc\\AppData\\Roaming\\nltk_data...\n",
            "[nltk_data]    |   Package wordnet31 is already up-to-date!\n",
            "[nltk_data]    | Downloading package wordnet_ic to\n",
            "[nltk_data]    |     C:\\Users\\jdscc\\AppData\\Roaming\\nltk_data...\n",
            "[nltk_data]    |   Package wordnet_ic is already up-to-date!\n",
            "[nltk_data]    | Downloading package words to\n",
            "[nltk_data]    |     C:\\Users\\jdscc\\AppData\\Roaming\\nltk_data...\n",
            "[nltk_data]    |   Package words is already up-to-date!\n",
            "[nltk_data]    | Downloading package ycoe to\n",
            "[nltk_data]    |     C:\\Users\\jdscc\\AppData\\Roaming\\nltk_data...\n",
            "[nltk_data]    |   Package ycoe is already up-to-date!\n",
            "[nltk_data]    | \n",
            "[nltk_data]  Done downloading collection all\n"
          ]
        },
        {
          "name": "stdout",
          "output_type": "stream",
          "text": [
            "Requirement already satisfied: tensorflow in c:\\users\\jdscc\\anaconda3\\lib\\site-packages (2.10.0)\n",
            "Requirement already satisfied: tensorboard<2.11,>=2.10 in c:\\users\\jdscc\\anaconda3\\lib\\site-packages (from tensorflow) (2.10.1)\n",
            "Requirement already satisfied: google-pasta>=0.1.1 in c:\\users\\jdscc\\anaconda3\\lib\\site-packages (from tensorflow) (0.2.0)\n",
            "Requirement already satisfied: typing-extensions>=3.6.6 in c:\\users\\jdscc\\anaconda3\\lib\\site-packages (from tensorflow) (3.10.0.2)\n",
            "Requirement already satisfied: gast<=0.4.0,>=0.2.1 in c:\\users\\jdscc\\anaconda3\\lib\\site-packages (from tensorflow) (0.4.0)\n",
            "Requirement already satisfied: absl-py>=1.0.0 in c:\\users\\jdscc\\anaconda3\\lib\\site-packages (from tensorflow) (1.3.0)\n",
            "Requirement already satisfied: h5py>=2.9.0 in c:\\users\\jdscc\\anaconda3\\lib\\site-packages (from tensorflow) (3.2.1)\n",
            "Requirement already satisfied: packaging in c:\\users\\jdscc\\anaconda3\\lib\\site-packages (from tensorflow) (21.0)\n",
            "Requirement already satisfied: keras-preprocessing>=1.1.1 in c:\\users\\jdscc\\anaconda3\\lib\\site-packages (from tensorflow) (1.1.2)\n",
            "Requirement already satisfied: opt-einsum>=2.3.2 in c:\\users\\jdscc\\anaconda3\\lib\\site-packages (from tensorflow) (3.3.0)\n",
            "Requirement already satisfied: libclang>=13.0.0 in c:\\users\\jdscc\\anaconda3\\lib\\site-packages (from tensorflow) (14.0.6)\n",
            "Requirement already satisfied: astunparse>=1.6.0 in c:\\users\\jdscc\\anaconda3\\lib\\site-packages (from tensorflow) (1.6.3)\n",
            "Requirement already satisfied: protobuf<3.20,>=3.9.2 in c:\\users\\jdscc\\anaconda3\\lib\\site-packages (from tensorflow) (3.19.6)\n",
            "Requirement already satisfied: tensorflow-estimator<2.11,>=2.10.0 in c:\\users\\jdscc\\anaconda3\\lib\\site-packages (from tensorflow) (2.10.0)\n",
            "Requirement already satisfied: numpy>=1.20 in c:\\users\\jdscc\\anaconda3\\lib\\site-packages (from tensorflow) (1.20.3)\n",
            "Requirement already satisfied: six>=1.12.0 in c:\\users\\jdscc\\anaconda3\\lib\\site-packages (from tensorflow) (1.16.0)\n",
            "Requirement already satisfied: termcolor>=1.1.0 in c:\\users\\jdscc\\anaconda3\\lib\\site-packages (from tensorflow) (2.0.1)\n",
            "Requirement already satisfied: grpcio<2.0,>=1.24.3 in c:\\users\\jdscc\\anaconda3\\lib\\site-packages (from tensorflow) (1.50.0)\n",
            "Requirement already satisfied: flatbuffers>=2.0 in c:\\users\\jdscc\\anaconda3\\lib\\site-packages (from tensorflow) (22.9.24)\n",
            "Requirement already satisfied: tensorflow-io-gcs-filesystem>=0.23.1 in c:\\users\\jdscc\\anaconda3\\lib\\site-packages (from tensorflow) (0.27.0)\n",
            "Requirement already satisfied: setuptools in c:\\users\\jdscc\\anaconda3\\lib\\site-packages (from tensorflow) (58.0.4)\n",
            "Requirement already satisfied: wrapt>=1.11.0 in c:\\users\\jdscc\\appdata\\roaming\\python\\python39\\site-packages (from tensorflow) (1.12.1)\n",
            "Requirement already satisfied: keras<2.11,>=2.10.0 in c:\\users\\jdscc\\anaconda3\\lib\\site-packages (from tensorflow) (2.10.0)\n",
            "Requirement already satisfied: wheel<1.0,>=0.23.0 in c:\\users\\jdscc\\anaconda3\\lib\\site-packages (from astunparse>=1.6.0->tensorflow) (0.37.0)\n",
            "Requirement already satisfied: google-auth-oauthlib<0.5,>=0.4.1 in c:\\users\\jdscc\\anaconda3\\lib\\site-packages (from tensorboard<2.11,>=2.10->tensorflow) (0.4.6)\n",
            "Requirement already satisfied: tensorboard-plugin-wit>=1.6.0 in c:\\users\\jdscc\\anaconda3\\lib\\site-packages (from tensorboard<2.11,>=2.10->tensorflow) (1.8.1)\n",
            "Requirement already satisfied: markdown>=2.6.8 in c:\\users\\jdscc\\anaconda3\\lib\\site-packages (from tensorboard<2.11,>=2.10->tensorflow) (3.4.1)\n",
            "Requirement already satisfied: google-auth<3,>=1.6.3 in c:\\users\\jdscc\\anaconda3\\lib\\site-packages (from tensorboard<2.11,>=2.10->tensorflow) (2.13.0)\n",
            "Requirement already satisfied: werkzeug>=1.0.1 in c:\\users\\jdscc\\anaconda3\\lib\\site-packages (from tensorboard<2.11,>=2.10->tensorflow) (2.0.2)\n",
            "Requirement already satisfied: tensorboard-data-server<0.7.0,>=0.6.0 in c:\\users\\jdscc\\anaconda3\\lib\\site-packages (from tensorboard<2.11,>=2.10->tensorflow) (0.6.1)\n",
            "Requirement already satisfied: requests<3,>=2.21.0 in c:\\users\\jdscc\\anaconda3\\lib\\site-packages (from tensorboard<2.11,>=2.10->tensorflow) (2.26.0)\n",
            "Requirement already satisfied: cachetools<6.0,>=2.0.0 in c:\\users\\jdscc\\anaconda3\\lib\\site-packages (from google-auth<3,>=1.6.3->tensorboard<2.11,>=2.10->tensorflow) (5.2.0)\n",
            "Requirement already satisfied: pyasn1-modules>=0.2.1 in c:\\users\\jdscc\\anaconda3\\lib\\site-packages (from google-auth<3,>=1.6.3->tensorboard<2.11,>=2.10->tensorflow) (0.2.8)\n",
            "Requirement already satisfied: rsa<5,>=3.1.4 in c:\\users\\jdscc\\anaconda3\\lib\\site-packages (from google-auth<3,>=1.6.3->tensorboard<2.11,>=2.10->tensorflow) (4.9)\n",
            "Requirement already satisfied: requests-oauthlib>=0.7.0 in c:\\users\\jdscc\\anaconda3\\lib\\site-packages (from google-auth-oauthlib<0.5,>=0.4.1->tensorboard<2.11,>=2.10->tensorflow) (1.3.1)\n",
            "Requirement already satisfied: importlib-metadata>=4.4 in c:\\users\\jdscc\\anaconda3\\lib\\site-packages (from markdown>=2.6.8->tensorboard<2.11,>=2.10->tensorflow) (4.8.1)\n",
            "Requirement already satisfied: zipp>=0.5 in c:\\users\\jdscc\\anaconda3\\lib\\site-packages (from importlib-metadata>=4.4->markdown>=2.6.8->tensorboard<2.11,>=2.10->tensorflow) (3.6.0)\n",
            "Requirement already satisfied: pyasn1<0.5.0,>=0.4.6 in c:\\users\\jdscc\\anaconda3\\lib\\site-packages (from pyasn1-modules>=0.2.1->google-auth<3,>=1.6.3->tensorboard<2.11,>=2.10->tensorflow) (0.4.8)\n",
            "Requirement already satisfied: certifi>=2017.4.17 in c:\\users\\jdscc\\anaconda3\\lib\\site-packages (from requests<3,>=2.21.0->tensorboard<2.11,>=2.10->tensorflow) (2021.10.8)\n",
            "Requirement already satisfied: idna<4,>=2.5 in c:\\users\\jdscc\\anaconda3\\lib\\site-packages (from requests<3,>=2.21.0->tensorboard<2.11,>=2.10->tensorflow) (3.2)\n",
            "Requirement already satisfied: urllib3<1.27,>=1.21.1 in c:\\users\\jdscc\\anaconda3\\lib\\site-packages (from requests<3,>=2.21.0->tensorboard<2.11,>=2.10->tensorflow) (1.26.7)\n",
            "Requirement already satisfied: charset-normalizer~=2.0.0 in c:\\users\\jdscc\\anaconda3\\lib\\site-packages (from requests<3,>=2.21.0->tensorboard<2.11,>=2.10->tensorflow) (2.0.4)\n",
            "Requirement already satisfied: oauthlib>=3.0.0 in c:\\users\\jdscc\\anaconda3\\lib\\site-packages (from requests-oauthlib>=0.7.0->google-auth-oauthlib<0.5,>=0.4.1->tensorboard<2.11,>=2.10->tensorflow) (3.2.2)\n",
            "Requirement already satisfied: pyparsing>=2.0.2 in c:\\users\\jdscc\\anaconda3\\lib\\site-packages (from packaging->tensorflow) (3.0.4)\n"
          ]
        }
      ],
      "source": [
        "#Manejo de datos\n",
        "import pandas as pd\n",
        "import numpy as np\n",
        "from tqdm import tqdm\n",
        "import re, string, unicodedata\n",
        "\n",
        "#Visualización de datos\n",
        "import matplotlib.pyplot as plt\n",
        "import seaborn as sns\n",
        "%matplotlib inline\n",
        "\n",
        "#Librerías para manejo de Lenguaje Natural\n",
        "!pip install contractions --quiet\n",
        "import contractions\n",
        "from contractions import contractions_dict\n",
        "!pip install inflect\n",
        "import inflect\n",
        "!pip install wordcloud\n",
        "from wordcloud import WordCloud, STOPWORDS\n",
        "\n",
        "# NLTK\n",
        "import nltk\n",
        "nltk.download('all')\n",
        "from nltk import word_tokenize, sent_tokenize\n",
        "from nltk.corpus import stopwords\n",
        "from nltk.stem import LancasterStemmer, WordNetLemmatizer\n",
        "\n",
        "#Entrenamiento del modelo\n",
        "from sklearn.neighbors import KNeighborsClassifier\n",
        "from sklearn.model_selection import train_test_split, GridSearchCV\n",
        "from sklearn.pipeline import Pipeline\n",
        "from sklearn.feature_extraction.text import TfidfVectorizer, CountVectorizer\n",
        "from sklearn.base import BaseEstimator,TransformerMixin\n",
        "from sklearn.metrics import classification_report, confusion_matrix, accuracy_score, f1_score, precision_score, recall_score\n",
        "from sklearn.tree import DecisionTreeClassifier, plot_tree\n",
        "from sklearn.svm import SVC\n",
        "\n",
        "from tqdm import tqdm\n",
        "!pip install tensorflow\n",
        "import tensorflow as tf\n",
        "import torch\n",
        "\n",
        "import csv"
      ]
    },
    {
      "cell_type": "code",
      "execution_count": null,
      "metadata": {
        "colab": {
          "base_uri": "https://localhost:8080/"
        },
        "id": "jfg_X8asf8Rh",
        "outputId": "72ede590-1ae6-4d2d-9a4e-01452ac342c9"
      },
      "outputs": [
        {
          "name": "stderr",
          "output_type": "stream",
          "text": [
            "C:\\Users\\jdscc\\anaconda3\\lib\\site-packages\\IPython\\core\\interactiveshell.py:3444: FutureWarning: The error_bad_lines argument has been deprecated and will be removed in a future version.\n",
            "\n",
            "\n",
            "  exec(code_obj, self.user_global_ns, self.user_ns)\n"
          ]
        }
      ],
      "source": [
        "data = pd.read_csv('SuicidiosProyecto.csv',sep=',', encoding='utf-8', error_bad_lines=False)"
      ]
    },
    {
      "cell_type": "markdown",
      "metadata": {
        "id": "CZuBN3AQf4kj"
      },
      "source": [
        "# II. Exploramiento de datos"
      ]
    },
    {
      "cell_type": "markdown",
      "metadata": {
        "id": "Be8fzsYwwthB"
      },
      "source": [
        "Se hace una exploracion inicial de los datos para ver en que formato estan presentados y que tipo de pre-proesamiento hay que hacer"
      ]
    },
    {
      "cell_type": "code",
      "execution_count": null,
      "metadata": {
        "colab": {
          "base_uri": "https://localhost:8080/",
          "height": 363
        },
        "id": "Mw9r4pl1wdqu",
        "outputId": "1ff74006-354d-4ea5-f5d4-5595f1cdf128"
      },
      "outputs": [
        {
          "data": {
            "text/html": [
              "<div>\n",
              "<style scoped>\n",
              "    .dataframe tbody tr th:only-of-type {\n",
              "        vertical-align: middle;\n",
              "    }\n",
              "\n",
              "    .dataframe tbody tr th {\n",
              "        vertical-align: top;\n",
              "    }\n",
              "\n",
              "    .dataframe thead th {\n",
              "        text-align: right;\n",
              "    }\n",
              "</style>\n",
              "<table border=\"1\" class=\"dataframe\">\n",
              "  <thead>\n",
              "    <tr style=\"text-align: right;\">\n",
              "      <th></th>\n",
              "      <th>Unnamed: 0</th>\n",
              "      <th>text</th>\n",
              "      <th>class</th>\n",
              "    </tr>\n",
              "  </thead>\n",
              "  <tbody>\n",
              "    <tr>\n",
              "      <th>0</th>\n",
              "      <td>173271</td>\n",
              "      <td>i want to destroy myselffor once everything wa...</td>\n",
              "      <td>suicide</td>\n",
              "    </tr>\n",
              "    <tr>\n",
              "      <th>1</th>\n",
              "      <td>336321</td>\n",
              "      <td>I kinda got behind schedule with learning for ...</td>\n",
              "      <td>non-suicide</td>\n",
              "    </tr>\n",
              "    <tr>\n",
              "      <th>2</th>\n",
              "      <td>256637</td>\n",
              "      <td>I'm just not sure anymoreFirst and foremost: I...</td>\n",
              "      <td>suicide</td>\n",
              "    </tr>\n",
              "    <tr>\n",
              "      <th>3</th>\n",
              "      <td>303772</td>\n",
              "      <td>please give me a reason to liveThats too much ...</td>\n",
              "      <td>suicide</td>\n",
              "    </tr>\n",
              "    <tr>\n",
              "      <th>4</th>\n",
              "      <td>293747</td>\n",
              "      <td>27f struggling to find meaning moving forwardI...</td>\n",
              "      <td>suicide</td>\n",
              "    </tr>\n",
              "    <tr>\n",
              "      <th>5</th>\n",
              "      <td>205651</td>\n",
              "      <td>Let’s get this bread 😎 Anyone know any good ba...</td>\n",
              "      <td>non-suicide</td>\n",
              "    </tr>\n",
              "    <tr>\n",
              "      <th>6</th>\n",
              "      <td>97174</td>\n",
              "      <td>Day 126 of posting random \"fun\" facts everyday...</td>\n",
              "      <td>non-suicide</td>\n",
              "    </tr>\n",
              "    <tr>\n",
              "      <th>7</th>\n",
              "      <td>195945</td>\n",
              "      <td>Little brother is self mutilating. Please help...</td>\n",
              "      <td>suicide</td>\n",
              "    </tr>\n",
              "    <tr>\n",
              "      <th>8</th>\n",
              "      <td>305273</td>\n",
              "      <td>Why do women always go in groups to their wash...</td>\n",
              "      <td>non-suicide</td>\n",
              "    </tr>\n",
              "    <tr>\n",
              "      <th>9</th>\n",
              "      <td>69929</td>\n",
              "      <td>Did you guys know that there's no school for g...</td>\n",
              "      <td>non-suicide</td>\n",
              "    </tr>\n",
              "  </tbody>\n",
              "</table>\n",
              "</div>"
            ],
            "text/plain": [
              "   Unnamed: 0                                               text        class\n",
              "0      173271  i want to destroy myselffor once everything wa...      suicide\n",
              "1      336321  I kinda got behind schedule with learning for ...  non-suicide\n",
              "2      256637  I'm just not sure anymoreFirst and foremost: I...      suicide\n",
              "3      303772  please give me a reason to liveThats too much ...      suicide\n",
              "4      293747  27f struggling to find meaning moving forwardI...      suicide\n",
              "5      205651  Let’s get this bread 😎 Anyone know any good ba...  non-suicide\n",
              "6       97174  Day 126 of posting random \"fun\" facts everyday...  non-suicide\n",
              "7      195945  Little brother is self mutilating. Please help...      suicide\n",
              "8      305273  Why do women always go in groups to their wash...  non-suicide\n",
              "9       69929  Did you guys know that there's no school for g...  non-suicide"
            ]
          },
          "execution_count": 3,
          "metadata": {},
          "output_type": "execute_result"
        }
      ],
      "source": [
        "data.head(10)"
      ]
    },
    {
      "cell_type": "markdown",
      "metadata": {
        "id": "ytl5fN_Kf8kA"
      },
      "source": [
        "# III. Preprocesamiento de Datos"
      ]
    },
    {
      "cell_type": "markdown",
      "metadata": {
        "id": "6AC6ysyhxO_L"
      },
      "source": [
        "## 3.1 Transformacion columna objetivo\n",
        "\n",
        "Inicialmente se cambia la columna objetivo a un valor binario 0/1 que corresponde a las categorias de non-suicide/suicide respectivamente. Tambien se elimina la columna \"unnamed:0\" pues esta corresponde a un identificador unico que no es relevante para la tarea propuesta"
      ]
    },
    {
      "cell_type": "code",
      "execution_count": null,
      "metadata": {
        "colab": {
          "base_uri": "https://localhost:8080/",
          "height": 423
        },
        "id": "vV-EgDnGyZ7S",
        "outputId": "bc0656c9-94b4-4b66-90d2-767227b3228d"
      },
      "outputs": [
        {
          "data": {
            "text/html": [
              "<div>\n",
              "<style scoped>\n",
              "    .dataframe tbody tr th:only-of-type {\n",
              "        vertical-align: middle;\n",
              "    }\n",
              "\n",
              "    .dataframe tbody tr th {\n",
              "        vertical-align: top;\n",
              "    }\n",
              "\n",
              "    .dataframe thead th {\n",
              "        text-align: right;\n",
              "    }\n",
              "</style>\n",
              "<table border=\"1\" class=\"dataframe\">\n",
              "  <thead>\n",
              "    <tr style=\"text-align: right;\">\n",
              "      <th></th>\n",
              "      <th>text</th>\n",
              "      <th>class</th>\n",
              "    </tr>\n",
              "  </thead>\n",
              "  <tbody>\n",
              "    <tr>\n",
              "      <th>0</th>\n",
              "      <td>i want to destroy myselffor once everything wa...</td>\n",
              "      <td>1</td>\n",
              "    </tr>\n",
              "    <tr>\n",
              "      <th>1</th>\n",
              "      <td>I kinda got behind schedule with learning for ...</td>\n",
              "      <td>0</td>\n",
              "    </tr>\n",
              "    <tr>\n",
              "      <th>2</th>\n",
              "      <td>I'm just not sure anymoreFirst and foremost: I...</td>\n",
              "      <td>1</td>\n",
              "    </tr>\n",
              "    <tr>\n",
              "      <th>3</th>\n",
              "      <td>please give me a reason to liveThats too much ...</td>\n",
              "      <td>1</td>\n",
              "    </tr>\n",
              "    <tr>\n",
              "      <th>4</th>\n",
              "      <td>27f struggling to find meaning moving forwardI...</td>\n",
              "      <td>1</td>\n",
              "    </tr>\n",
              "    <tr>\n",
              "      <th>...</th>\n",
              "      <td>...</td>\n",
              "      <td>...</td>\n",
              "    </tr>\n",
              "    <tr>\n",
              "      <th>195695</th>\n",
              "      <td>Drop some cool new cereal ideas Like what woul...</td>\n",
              "      <td>0</td>\n",
              "    </tr>\n",
              "    <tr>\n",
              "      <th>195696</th>\n",
              "      <td>Unpopular opinion but cats deserve love and re...</td>\n",
              "      <td>0</td>\n",
              "    </tr>\n",
              "    <tr>\n",
              "      <th>195697</th>\n",
              "      <td>Hey guys :) How yall doin?</td>\n",
              "      <td>0</td>\n",
              "    </tr>\n",
              "    <tr>\n",
              "      <th>195698</th>\n",
              "      <td>uhm I covered my dog in a blanket because the ...</td>\n",
              "      <td>0</td>\n",
              "    </tr>\n",
              "    <tr>\n",
              "      <th>195699</th>\n",
              "      <td>____god. how do i do it. how do i end my life....</td>\n",
              "      <td>1</td>\n",
              "    </tr>\n",
              "  </tbody>\n",
              "</table>\n",
              "<p>195700 rows × 2 columns</p>\n",
              "</div>"
            ],
            "text/plain": [
              "                                                     text  class\n",
              "0       i want to destroy myselffor once everything wa...      1\n",
              "1       I kinda got behind schedule with learning for ...      0\n",
              "2       I'm just not sure anymoreFirst and foremost: I...      1\n",
              "3       please give me a reason to liveThats too much ...      1\n",
              "4       27f struggling to find meaning moving forwardI...      1\n",
              "...                                                   ...    ...\n",
              "195695  Drop some cool new cereal ideas Like what woul...      0\n",
              "195696  Unpopular opinion but cats deserve love and re...      0\n",
              "195697                         Hey guys :) How yall doin?      0\n",
              "195698  uhm I covered my dog in a blanket because the ...      0\n",
              "195699  ____god. how do i do it. how do i end my life....      1\n",
              "\n",
              "[195700 rows x 2 columns]"
            ]
          },
          "execution_count": 4,
          "metadata": {},
          "output_type": "execute_result"
        }
      ],
      "source": [
        "df=data.copy()\n",
        "df=df.drop(df.columns[0], axis=1)\n",
        "df['class'].replace(('suicide'), ('1'), inplace=True)\n",
        "df['class'].replace(('non-suicide'), ('0'), inplace=True)\n",
        "df['class'] = pd.to_numeric(df['class'])\n",
        "df"
      ]
    },
    {
      "cell_type": "markdown",
      "metadata": {
        "id": "BogIUoM50nHV"
      },
      "source": [
        "Ademas se valida el contenido de la columna 'class' para verificar que no haya ninguna inconsistencia con los labels"
      ]
    },
    {
      "cell_type": "code",
      "execution_count": null,
      "metadata": {
        "colab": {
          "base_uri": "https://localhost:8080/"
        },
        "id": "8f2WZwbC0yhN",
        "outputId": "30f5f6b1-ef4b-4c71-9d2f-edc068c531de"
      },
      "outputs": [
        {
          "data": {
            "text/plain": [
              "0    110165\n",
              "1     85535\n",
              "Name: class, dtype: int64"
            ]
          },
          "execution_count": 5,
          "metadata": {},
          "output_type": "execute_result"
        }
      ],
      "source": [
        "df['class'].value_counts()"
      ]
    },
    {
      "cell_type": "markdown",
      "metadata": {
        "id": "14b-_pQY3HFn"
      },
      "source": [
        "Tambien se valida la validez y completitud de los datos verificando que no hallan nulos o duplicados y eliminando las filas correspondientes en caso que se encuentren"
      ]
    },
    {
      "cell_type": "code",
      "execution_count": null,
      "metadata": {
        "colab": {
          "base_uri": "https://localhost:8080/"
        },
        "id": "eijKiNkV3GwJ",
        "outputId": "3d92a5f1-7fdb-4d5a-b0c3-fa7f5b4c02f5"
      },
      "outputs": [
        {
          "data": {
            "text/plain": [
              "False    195700\n",
              "dtype: int64"
            ]
          },
          "execution_count": 6,
          "metadata": {},
          "output_type": "execute_result"
        }
      ],
      "source": [
        "df.duplicated().value_counts()"
      ]
    },
    {
      "cell_type": "code",
      "execution_count": null,
      "metadata": {
        "colab": {
          "base_uri": "https://localhost:8080/"
        },
        "id": "SC4xSLHJ3V7-",
        "outputId": "600195b6-3ca6-44d9-b127-d275f7d3a8af"
      },
      "outputs": [
        {
          "data": {
            "text/plain": [
              "Unnamed: 0    0\n",
              "text          0\n",
              "class         0\n",
              "dtype: int64"
            ]
          },
          "execution_count": 7,
          "metadata": {},
          "output_type": "execute_result"
        }
      ],
      "source": [
        "data.isna().sum()"
      ]
    },
    {
      "cell_type": "markdown",
      "metadata": {
        "id": "roUVrxRd1-Rv"
      },
      "source": [
        "Por ultimo se verifica que las columnas tengan el tipo de dato apropiado para su procesamiento"
      ]
    },
    {
      "cell_type": "code",
      "execution_count": null,
      "metadata": {
        "colab": {
          "base_uri": "https://localhost:8080/"
        },
        "id": "DZiuTQyx2FwO",
        "outputId": "ae0a11be-1c19-4291-eb02-92c056e9b5c9"
      },
      "outputs": [
        {
          "data": {
            "text/plain": [
              "text     object\n",
              "class     int64\n",
              "dtype: object"
            ]
          },
          "execution_count": 8,
          "metadata": {},
          "output_type": "execute_result"
        }
      ],
      "source": [
        "df.dtypes"
      ]
    },
    {
      "cell_type": "markdown",
      "metadata": {
        "id": "iwxUDQ0wxCZz"
      },
      "source": [
        "## 3.2 Preparacion de datos\n",
        "Todos los pasos contenidos en esta seccion corresponden a la limpieza y pre proceamiento del texto en la columna 'text' para poder dejarlo en un formato apto para su posterior evaluacion con modelos de PLN. Inicialmente se separan los datos en texto y labels para poder realizar ls tareas de limpieza solo sobre los datos de texto que lo requieren\n",
        "\n"
      ]
    },
    {
      "cell_type": "code",
      "execution_count": null,
      "metadata": {
        "id": "4f9iHmR0aMtK"
      },
      "outputs": [],
      "source": [
        "_, data_small = train_test_split(df, test_size=0.20, random_state=42)"
      ]
    },
    {
      "cell_type": "code",
      "execution_count": null,
      "metadata": {
        "colab": {
          "base_uri": "https://localhost:8080/"
        },
        "id": "g2zAmCplEo-N",
        "outputId": "d7505d7c-258a-4368-aad5-937e1b307616"
      },
      "outputs": [
        {
          "name": "stdout",
          "output_type": "stream",
          "text": [
            "Tamaño del conjunto de entrenamiento: 31312\n",
            "Tamaño del conjunto de evaluación: 7828\n"
          ]
        }
      ],
      "source": [
        "train, test = train_test_split(data_small, test_size=0.2, random_state=42)\n",
        "X_train, y_train = train['text'], train['class']\n",
        "X_test, y_test = test['text'], test['class']\n",
        "print(\"Tamaño del conjunto de entrenamiento: \"+str(X_train.size))\n",
        "print(\"Tamaño del conjunto de evaluación: \"+str(X_test.size))"
      ]
    },
    {
      "cell_type": "markdown",
      "metadata": {
        "id": "8cYv9bRkhXg9"
      },
      "source": [
        "### 3.2.1 Eliminacion contracciones\n",
        "\n",
        "Eliminar contracciones permite reducir el tamaño del diccionario y evita que se tomen como palabras distintas casos como, por ejemplo, won't = will not. I'm = I am"
      ]
    },
    {
      "cell_type": "code",
      "execution_count": null,
      "metadata": {
        "colab": {
          "base_uri": "https://localhost:8080/"
        },
        "id": "OZv4IwaigCPv",
        "outputId": "0deb1cd0-a664-4389-8924-0e02aa666b06"
      },
      "outputs": [
        {
          "data": {
            "text/plain": [
              "170783    I really hate my life.I am 13 years old and I ...\n",
              "60450     I Am ending it tonightim leaving so many frien...\n",
              "159181    Yo anyone down to chat? I am 14M, very emo, an...\n",
              "63934     Someone knocked Is not it fun that one of my p...\n",
              "90090     I do not know what to do and I am scared that ...\n",
              "                                ...                        \n",
              "161943                   i am uselesshaving a panic attack.\n",
              "188694    I feel like ending it would feel better than s...\n",
              "20015     Sometimes I just feel like I cannot do this an...\n",
              "141904    i have lost the will to live anymore,i am goin...\n",
              "127158    The release of the new Netflix film is the dra...\n",
              "Name: text, Length: 31312, dtype: object"
            ]
          },
          "execution_count": 11,
          "metadata": {},
          "output_type": "execute_result"
        }
      ],
      "source": [
        "X_clean= X_train.apply(contractions.fix) #Aplica la corrección de las contracciones\n",
        "X_clean_test= X_test.apply(contractions.fix) #Aplica la corrección de las contracciones\n",
        "X_clean"
      ]
    },
    {
      "cell_type": "markdown",
      "metadata": {
        "id": "J_EcCdYahZKF"
      },
      "source": [
        "### 3.2.2 Minusculas"
      ]
    },
    {
      "cell_type": "code",
      "execution_count": null,
      "metadata": {
        "id": "rvjh1WcI_Ycv"
      },
      "outputs": [],
      "source": [
        "def to_lowercase(phrase):\n",
        "    new_phrase = []\n",
        "    for word in phrase:\n",
        "        new_word = word.lower()\n",
        "        new_phrase.append(new_word)\n",
        "    return \"\".join(new_phrase)"
      ]
    },
    {
      "cell_type": "code",
      "execution_count": null,
      "metadata": {
        "colab": {
          "base_uri": "https://localhost:8080/"
        },
        "id": "QUr6WmbB_cUd",
        "outputId": "a242167c-0565-4569-f6f7-0d20968312fa"
      },
      "outputs": [
        {
          "data": {
            "text/plain": [
              "170783    i really hate my life.i am 13 years old and i ...\n",
              "60450     i am ending it tonightim leaving so many frien...\n",
              "159181    yo anyone down to chat? i am 14m, very emo, an...\n",
              "63934     someone knocked is not it fun that one of my p...\n",
              "90090     i do not know what to do and i am scared that ...\n",
              "                                ...                        \n",
              "161943                   i am uselesshaving a panic attack.\n",
              "188694    i feel like ending it would feel better than s...\n",
              "20015     sometimes i just feel like i cannot do this an...\n",
              "141904    i have lost the will to live anymore,i am goin...\n",
              "127158    the release of the new netflix film is the dra...\n",
              "Name: text, Length: 31312, dtype: object"
            ]
          },
          "execution_count": 13,
          "metadata": {},
          "output_type": "execute_result"
        }
      ],
      "source": [
        "X_clean=X_clean.apply(to_lowercase)\n",
        "X_clean_test=X_clean_test.apply(to_lowercase)\n",
        "X_clean"
      ]
    },
    {
      "cell_type": "markdown",
      "metadata": {
        "id": "_pi8JKeKhadj"
      },
      "source": [
        "### 3.2.3 puntuacion"
      ]
    },
    {
      "cell_type": "code",
      "execution_count": null,
      "metadata": {
        "id": "g-8Q9r4l_8g4"
      },
      "outputs": [],
      "source": [
        "def remove_punctuation(phrase):\n",
        "    return phrase.translate(str.maketrans('','',string.punctuation))"
      ]
    },
    {
      "cell_type": "code",
      "execution_count": null,
      "metadata": {
        "colab": {
          "base_uri": "https://localhost:8080/"
        },
        "id": "y4rl122J_9aL",
        "outputId": "e45451fc-6cc6-4554-bd6e-0be6d367e569"
      },
      "outputs": [
        {
          "data": {
            "text/plain": [
              "170783    i really hate my lifei am 13 years old and i r...\n",
              "60450     i am ending it tonightim leaving so many frien...\n",
              "159181    yo anyone down to chat i am 14m very emo and i...\n",
              "63934     someone knocked is not it fun that one of my p...\n",
              "90090     i do not know what to do and i am scared that ...\n",
              "                                ...                        \n",
              "161943                    i am uselesshaving a panic attack\n",
              "188694    i feel like ending it would feel better than s...\n",
              "20015     sometimes i just feel like i cannot do this an...\n",
              "141904    i have lost the will to live anymorei am going...\n",
              "127158    the release of the new netflix film is the dra...\n",
              "Name: text, Length: 31312, dtype: object"
            ]
          },
          "execution_count": 15,
          "metadata": {},
          "output_type": "execute_result"
        }
      ],
      "source": [
        "X_clean=X_clean.apply(remove_punctuation)\n",
        "X_clean_test=X_clean_test.apply(remove_punctuation)\n",
        "X_clean"
      ]
    },
    {
      "cell_type": "markdown",
      "metadata": {
        "id": "rXVSI0S3iCbQ"
      },
      "source": [
        "### 3.2.4 Remover stopwords"
      ]
    },
    {
      "cell_type": "code",
      "execution_count": null,
      "metadata": {
        "id": "dUNBMHs4BBKJ"
      },
      "outputs": [],
      "source": [
        "def remove_stopwords(phrase, stopwords=stopwords.words('english')):\n",
        "    words=phrase.split(\" \")\n",
        "    new_phrase = []\n",
        "    for word in words:\n",
        "        if word not in stopwords:\n",
        "            new_phrase.append(word)\n",
        "            new_phrase.append(\" \")\n",
        "    return \"\".join(new_phrase)[:-1]"
      ]
    },
    {
      "cell_type": "code",
      "execution_count": null,
      "metadata": {
        "colab": {
          "base_uri": "https://localhost:8080/"
        },
        "id": "93ApJmvrBEYW",
        "outputId": "afb8a669-9155-41d1-b75b-bf3c38df5633"
      },
      "outputs": [
        {
          "data": {
            "text/plain": [
              "170783    really hate lifei 13 years old really hate lif...\n",
              "60450     ending tonightim leaving many friends pets gir...\n",
              "159181    yo anyone chat 14m emo spotify addict longest ...\n",
              "63934     someone knocked fun one parents knocked door e...\n",
              "90090     know scared screw something bestie f really cl...\n",
              "                                ...                        \n",
              "161943                           uselesshaving panic attack\n",
              "188694    feel like ending would feel better suffering d...\n",
              "20015     sometimes feel like cannot anymoremaybe partia...\n",
              "141904    lost live anymorei going kill 2 hour 15 mintue...\n",
              "127158    release new netflix film drama september liter...\n",
              "Name: text, Length: 31312, dtype: object"
            ]
          },
          "execution_count": 17,
          "metadata": {},
          "output_type": "execute_result"
        }
      ],
      "source": [
        "X_clean=X_clean.apply(remove_stopwords)\n",
        "X_clean_test=X_clean_test.apply(remove_stopwords)\n",
        "X_clean"
      ]
    },
    {
      "cell_type": "markdown",
      "metadata": {
        "id": "EBkhp00OiHKb"
      },
      "source": [
        "## 3.3  Tokenizacion"
      ]
    },
    {
      "cell_type": "code",
      "execution_count": null,
      "metadata": {
        "colab": {
          "base_uri": "https://localhost:8080/"
        },
        "id": "GVMtXTkgB033",
        "outputId": "b563c9cd-8807-4891-9755-b4eb065fd855"
      },
      "outputs": [
        {
          "data": {
            "text/plain": [
              "170783    [really, hate, lifei, 13, years, old, really, ...\n",
              "60450     [ending, tonightim, leaving, many, friends, pe...\n",
              "159181    [yo, anyone, chat, 14m, emo, spotify, addict, ...\n",
              "63934     [someone, knocked, fun, one, parents, knocked,...\n",
              "90090     [know, scared, screw, something, bestie, f, re...\n",
              "Name: text, dtype: object"
            ]
          },
          "execution_count": 18,
          "metadata": {},
          "output_type": "execute_result"
        }
      ],
      "source": [
        "X_clean = X_clean.apply(word_tokenize)\n",
        "X_clean_test = X_clean_test.apply(word_tokenize)\n",
        "X_clean.head()"
      ]
    },
    {
      "cell_type": "markdown",
      "metadata": {
        "id": "Z1XjGs2aiJvR"
      },
      "source": [
        "## 3.4 Lematizacion/Stemming"
      ]
    },
    {
      "cell_type": "code",
      "execution_count": null,
      "metadata": {
        "id": "nwkiszabh07g"
      },
      "outputs": [],
      "source": [
        "# Funciones tomadas de https://www.kdnuggets.com/2018/03/text-data-preprocessing-walkthrough-python.html\n",
        "\n",
        "def stem_words(words):\n",
        "    \"\"\"Stem words in list of tokenized words\"\"\"\n",
        "    stemmer = LancasterStemmer()\n",
        "    stems = []\n",
        "    for word in words:\n",
        "        stem = stemmer.stem(word)\n",
        "        stems.append(stem)\n",
        "    return stems\n",
        "\n",
        "def lemmatize_verbs(words):\n",
        "    \"\"\"Lemmatize verbs in list of tokenized words\"\"\"\n",
        "    lemmatizer = WordNetLemmatizer()\n",
        "    lemmas = []\n",
        "    for word in words:\n",
        "        lemma = lemmatizer.lemmatize(word, pos='v')\n",
        "        lemmas.append(lemma)\n",
        "    return lemmas\n",
        "\n",
        "def stem_and_lemmatize(words):\n",
        "    words = lemmatize_verbs(words)\n",
        "    words = stem_words(words)\n",
        "    return words"
      ]
    },
    {
      "cell_type": "code",
      "execution_count": null,
      "metadata": {
        "colab": {
          "base_uri": "https://localhost:8080/"
        },
        "id": "n5jgjJDPCUVW",
        "outputId": "6492a405-b2f2-456c-dde5-91663e6e0607"
      },
      "outputs": [
        {
          "name": "stdout",
          "output_type": "stream",
          "text": [
            "Wall time: 31.4 s\n"
          ]
        },
        {
          "data": {
            "text/plain": [
              "170783    [real, hat, life, 13, year, old, real, hat, li...\n",
              "60450     [end, tonightim, leav, many, friend, pet, girl...\n",
              "159181    [yo, anyon, chat, 14m, emo, spot, addict, long...\n",
              "63934     [someon, knock, fun, on, par, knock, door, eve...\n",
              "90090     [know, scar, screw, someth, besty, f, real, cl...\n",
              "Name: text, dtype: object"
            ]
          },
          "execution_count": 20,
          "metadata": {},
          "output_type": "execute_result"
        }
      ],
      "source": [
        "%%time\n",
        "X_clean = X_clean.apply(stem_and_lemmatize) \n",
        "X_clean_test = X_clean_test.apply(stem_and_lemmatize)\n",
        "X_clean.head()"
      ]
    },
    {
      "cell_type": "markdown",
      "metadata": {
        "id": "ITaaAeQwgBYF"
      },
      "source": [
        "# IV. Implementacion de modelos"
      ]
    },
    {
      "cell_type": "markdown",
      "metadata": {
        "id": "bb_l23G9JJeh"
      },
      "source": [
        "## Representacion vectorial de datos\n",
        "\n",
        "Dado que es necesario realizar una representacion vectorial del texto para su posterior procesamiento se seleccionan 3 tipos de representacion diferentes, para cada modelo se van a utilizar las 3 representaciones vectoriales para poder seleccionar el mejor resultado posible \n",
        "\n",
        "\n",
        "*   Matriz de Frecuencia\n",
        "*   Representacion termino documento (TFIDF)\n",
        "*   Matriz binaria\n",
        "\n",
        "Inicialmente se combinan todos los tokens que componen cada sentencia en un string para poder crear representaciones matriciales "
      ]
    },
    {
      "cell_type": "code",
      "execution_count": null,
      "metadata": {
        "colab": {
          "base_uri": "https://localhost:8080/"
        },
        "id": "zgZaUcgrN2CM",
        "outputId": "237de058-7b4b-4dd8-f146-4c7245a9d269"
      },
      "outputs": [
        {
          "data": {
            "text/plain": [
              "170783      real hat life 13 year old real hat lif want die\n",
              "60450     end tonightim leav many friend pet girlfriend ...\n",
              "159181    yo anyon chat 14m emo spot addict longest play...\n",
              "Name: text, dtype: object"
            ]
          },
          "execution_count": 21,
          "metadata": {},
          "output_type": "execute_result"
        }
      ],
      "source": [
        "X_clean = X_clean.apply(lambda x: ' '.join(map(str, x)))\n",
        "X_clean_test = X_clean_test.apply(lambda x: ' '.join(map(str, x)))\n",
        "X_clean.head(3)"
      ]
    },
    {
      "cell_type": "markdown",
      "metadata": {
        "id": "ohmdd1DYJxbF"
      },
      "source": [
        "### Matriz frecuencia"
      ]
    },
    {
      "cell_type": "code",
      "execution_count": null,
      "metadata": {
        "colab": {
          "base_uri": "https://localhost:8080/"
        },
        "id": "ygvQvLT4J1Hs",
        "outputId": "dba74eb0-8573-48bf-ed0a-5ef3bfd9fe61"
      },
      "outputs": [
        {
          "name": "stdout",
          "output_type": "stream",
          "text": [
            "(31312, 40792)\n"
          ]
        }
      ],
      "source": [
        "# También, se puede realizar el conteo de las palabras presentes.\n",
        "count = CountVectorizer()\n",
        "X_count = count.fit_transform(X_clean)\n",
        "print(X_count.shape)"
      ]
    },
    {
      "cell_type": "code",
      "execution_count": null,
      "metadata": {
        "colab": {
          "base_uri": "https://localhost:8080/"
        },
        "id": "PFjjVGAWTUR-",
        "outputId": "98ab6a7b-b09a-458c-9488-36106d97c876"
      },
      "outputs": [
        {
          "name": "stdout",
          "output_type": "stream",
          "text": [
            "(7828, 40792)\n"
          ]
        }
      ],
      "source": [
        "X_count_test=count.transform(X_clean_test)\n",
        "print(X_count_test.shape)"
      ]
    },
    {
      "cell_type": "markdown",
      "metadata": {
        "id": "uucN75lXJ1tC"
      },
      "source": [
        "### tfidf"
      ]
    },
    {
      "cell_type": "code",
      "execution_count": null,
      "metadata": {
        "colab": {
          "base_uri": "https://localhost:8080/"
        },
        "id": "6exm6QMyJ2Yh",
        "outputId": "6a578584-51ba-4eff-9d99-068eb82fb6ca"
      },
      "outputs": [
        {
          "name": "stdout",
          "output_type": "stream",
          "text": [
            "(31312, 40792)\n"
          ]
        }
      ],
      "source": [
        "#Se puede realizar la transformación Term-frecuency times inverse Document-frecuency.\n",
        "tf_idf = TfidfVectorizer()\n",
        "X_tf_idf = tf_idf.fit_transform(X_clean)\n",
        "print(X_tf_idf.shape)"
      ]
    },
    {
      "cell_type": "code",
      "execution_count": null,
      "metadata": {
        "colab": {
          "base_uri": "https://localhost:8080/"
        },
        "id": "oags5RR2TmFj",
        "outputId": "b1cf743c-8a26-4dd7-ebd5-09fbd63e93fc"
      },
      "outputs": [
        {
          "name": "stdout",
          "output_type": "stream",
          "text": [
            "(7828, 40792)\n"
          ]
        }
      ],
      "source": [
        "X_TfIdf_test=tf_idf.transform(X_clean_test)\n",
        "print(X_TfIdf_test.shape)"
      ]
    },
    {
      "cell_type": "markdown",
      "metadata": {
        "id": "dTK8BEpcJ3DH"
      },
      "source": [
        "### Binaria"
      ]
    },
    {
      "cell_type": "code",
      "execution_count": null,
      "metadata": {
        "colab": {
          "base_uri": "https://localhost:8080/"
        },
        "id": "t_5EKaiHJ3gk",
        "outputId": "2ca137df-53ee-446d-c3c4-17284b5741e1"
      },
      "outputs": [
        {
          "name": "stdout",
          "output_type": "stream",
          "text": [
            "(31312, 40792)\n"
          ]
        }
      ],
      "source": [
        "# Se transforma el texto con una transformación binaria 1 a 1.\n",
        "binary = CountVectorizer(binary=True, lowercase = False)\n",
        "X_binary = binary.fit_transform(X_clean)\n",
        "print(X_binary.shape)"
      ]
    },
    {
      "cell_type": "code",
      "execution_count": null,
      "metadata": {
        "colab": {
          "base_uri": "https://localhost:8080/"
        },
        "id": "I8s90EAnT8sY",
        "outputId": "8832ec9e-bb09-414e-d888-af87724aad4d"
      },
      "outputs": [
        {
          "name": "stdout",
          "output_type": "stream",
          "text": [
            "(7828, 40792)\n"
          ]
        }
      ],
      "source": [
        "X_binary_test=binary.transform(X_clean_test)\n",
        "print(X_binary_test.shape)"
      ]
    },
    {
      "cell_type": "code",
      "execution_count": null,
      "metadata": {
        "id": "CieN6GwOUESN"
      },
      "outputs": [],
      "source": [
        "train_datasets={\"binary\":X_binary,\n",
        "                \"count\":X_count,\n",
        "                \"tfidf\":X_tf_idf}\n",
        "test_datasets={\"binary\":X_binary_test,\n",
        "                \"count\":X_count_test,\n",
        "                \"tfidf\":X_TfIdf_test}"
      ]
    },
    {
      "cell_type": "code",
      "execution_count": null,
      "metadata": {
        "id": "uR7IShX1cmzn"
      },
      "outputs": [],
      "source": [
        "def plot_confusion_matrix(y_true, y_pred, classes,\n",
        "                          normalize=False,\n",
        "                          title=None,\n",
        "                          cmap=plt.cm.Blues,size=(10,10)):\n",
        "    \"\"\"\n",
        "    This function prints and plots the confusion matrix.\n",
        "    Normalization can be applied by setting `normalize=True`.\n",
        "    \"\"\"\n",
        "    if not title:\n",
        "        if normalize:\n",
        "            title = 'Normalized confusion matrix'\n",
        "        else:\n",
        "            title = 'Confusion matrix, without normalization'\n",
        "\n",
        "    # Compute confusion matrix\n",
        "    cm = confusion_matrix(y_true, y_pred)\n",
        "    \n",
        "    if normalize:\n",
        "        cm = cm.astype('float') / cm.sum(axis=1)[:, np.newaxis]\n",
        "        print(\"Normalized confusion matrix\")\n",
        "    else:\n",
        "        print('Confusion matrix, without normalization')\n",
        "\n",
        "\n",
        "\n",
        "    fig, ax = plt.subplots(figsize=size)\n",
        "    im = ax.imshow(cm, interpolation='nearest', cmap=cmap)\n",
        "    ax.figure.colorbar(im, ax=ax)\n",
        "    # We want to show all ticks...\n",
        "    ax.set(xticks=np.arange(cm.shape[1]),\n",
        "           yticks=np.arange(cm.shape[0]),\n",
        "           # ... and label them with the respective list entries\n",
        "           xticklabels=classes, yticklabels=classes,\n",
        "           title=title,\n",
        "           ylabel='True label',\n",
        "           xlabel='Predicted label')\n",
        "\n",
        "    # Rotate the tick labels and set their alignment.\n",
        "    plt.setp(ax.get_xticklabels(), rotation=45, ha=\"right\",\n",
        "             rotation_mode=\"anchor\")\n",
        "\n",
        "    # Loop over data dimensions and create text annotations.\n",
        "    fmt = '.2f' if normalize else 'd'\n",
        "    thresh = cm.max() / 2.\n",
        "    for i in range(cm.shape[0]):\n",
        "        for j in range(cm.shape[1]):\n",
        "            ax.text(j, i, format(cm[i, j], fmt),\n",
        "                    ha=\"center\", va=\"center\",\n",
        "                    color=\"white\" if cm[i, j] > thresh else \"black\")\n",
        "    fig.tight_layout()\n",
        "    return ax"
      ]
    },
    {
      "cell_type": "code",
      "execution_count": null,
      "metadata": {
        "colab": {
          "base_uri": "https://localhost:8080/"
        },
        "id": "yFAFMmh5dOcG",
        "outputId": "02e4163d-29f7-48d7-ed5e-bc06a9029a44"
      },
      "outputs": [
        {
          "name": "stdout",
          "output_type": "stream",
          "text": [
            "(31312, 40792)\n"
          ]
        }
      ],
      "source": [
        "print(X_binary.shape)"
      ]
    },
    {
      "cell_type": "code",
      "execution_count": null,
      "metadata": {
        "colab": {
          "base_uri": "https://localhost:8080/"
        },
        "id": "KqLAdE_OdZuP",
        "outputId": "81f5eeae-fd34-4017-be4c-fb36a2ad9cc5"
      },
      "outputs": [
        {
          "name": "stdout",
          "output_type": "stream",
          "text": [
            "(31312,)\n"
          ]
        }
      ],
      "source": [
        "print(y_train.shape)"
      ]
    },
    {
      "cell_type": "markdown",
      "metadata": {
        "id": "Y04Aol93gG0j"
      },
      "source": [
        "## 4.1 Algoritmo 1: Arbol de decision"
      ]
    },
    {
      "cell_type": "code",
      "execution_count": null,
      "metadata": {
        "id": "PrVXC9cAgGZV"
      },
      "outputs": [],
      "source": [
        "estimators = [\n",
        "        ('classifier', DecisionTreeClassifier(random_state=0))          \n",
        "    ]\n",
        "\n",
        "parameters = {\n",
        "              'classifier__criterion':['gini','entropy'],\n",
        "              'classifier__max_depth':[30,40,50,60,70],\n",
        "            }\n",
        "\n",
        "pipe_tree = Pipeline(estimators)"
      ]
    },
    {
      "cell_type": "code",
      "execution_count": null,
      "metadata": {
        "colab": {
          "base_uri": "https://localhost:8080/"
        },
        "id": "bH25_YvzUOom",
        "outputId": "32919ece-9e2c-42b9-e139-77f4f27c69ab"
      },
      "outputs": [
        {
          "name": "stdout",
          "output_type": "stream",
          "text": [
            "Fitting 3 folds for each of 10 candidates, totalling 30 fits\n",
            "[CV 1/3] END classifier__criterion=gini, classifier__max_depth=30;, score=0.816 total time=   3.8s\n",
            "[CV 2/3] END classifier__criterion=gini, classifier__max_depth=30;, score=0.829 total time=   3.6s\n",
            "[CV 3/3] END classifier__criterion=gini, classifier__max_depth=30;, score=0.829 total time=   3.7s\n",
            "[CV 1/3] END classifier__criterion=gini, classifier__max_depth=40;, score=0.811 total time=   4.2s\n",
            "[CV 2/3] END classifier__criterion=gini, classifier__max_depth=40;, score=0.827 total time=   4.1s\n",
            "[CV 3/3] END classifier__criterion=gini, classifier__max_depth=40;, score=0.824 total time=   4.2s\n",
            "[CV 1/3] END classifier__criterion=gini, classifier__max_depth=50;, score=0.810 total time=   4.5s\n",
            "[CV 2/3] END classifier__criterion=gini, classifier__max_depth=50;, score=0.823 total time=   4.5s\n",
            "[CV 3/3] END classifier__criterion=gini, classifier__max_depth=50;, score=0.826 total time=   4.4s\n",
            "[CV 1/3] END classifier__criterion=gini, classifier__max_depth=60;, score=0.809 total time=   4.7s\n",
            "[CV 2/3] END classifier__criterion=gini, classifier__max_depth=60;, score=0.823 total time=   4.7s\n",
            "[CV 3/3] END classifier__criterion=gini, classifier__max_depth=60;, score=0.824 total time=   4.7s\n",
            "[CV 1/3] END classifier__criterion=gini, classifier__max_depth=70;, score=0.811 total time=   4.8s\n",
            "[CV 2/3] END classifier__criterion=gini, classifier__max_depth=70;, score=0.821 total time=   4.9s\n",
            "[CV 3/3] END classifier__criterion=gini, classifier__max_depth=70;, score=0.823 total time=   4.9s\n",
            "[CV 1/3] END classifier__criterion=entropy, classifier__max_depth=30;, score=0.806 total time=   3.5s\n",
            "[CV 2/3] END classifier__criterion=entropy, classifier__max_depth=30;, score=0.816 total time=   3.5s\n",
            "[CV 3/3] END classifier__criterion=entropy, classifier__max_depth=30;, score=0.817 total time=   3.6s\n",
            "[CV 1/3] END classifier__criterion=entropy, classifier__max_depth=40;, score=0.806 total time=   3.9s\n",
            "[CV 2/3] END classifier__criterion=entropy, classifier__max_depth=40;, score=0.818 total time=   4.0s\n",
            "[CV 3/3] END classifier__criterion=entropy, classifier__max_depth=40;, score=0.814 total time=   3.9s\n",
            "[CV 1/3] END classifier__criterion=entropy, classifier__max_depth=50;, score=0.805 total time=   4.1s\n",
            "[CV 2/3] END classifier__criterion=entropy, classifier__max_depth=50;, score=0.818 total time=   4.2s\n",
            "[CV 3/3] END classifier__criterion=entropy, classifier__max_depth=50;, score=0.815 total time=   4.2s\n",
            "[CV 1/3] END classifier__criterion=entropy, classifier__max_depth=60;, score=0.809 total time=   4.4s\n",
            "[CV 2/3] END classifier__criterion=entropy, classifier__max_depth=60;, score=0.812 total time=   4.3s\n",
            "[CV 3/3] END classifier__criterion=entropy, classifier__max_depth=60;, score=0.810 total time=   4.2s\n",
            "[CV 1/3] END classifier__criterion=entropy, classifier__max_depth=70;, score=0.806 total time=   4.3s\n",
            "[CV 2/3] END classifier__criterion=entropy, classifier__max_depth=70;, score=0.812 total time=   4.4s\n",
            "[CV 3/3] END classifier__criterion=entropy, classifier__max_depth=70;, score=0.815 total time=   4.3s\n",
            "Fitting 3 folds for each of 10 candidates, totalling 30 fits\n",
            "[CV 1/3] END classifier__criterion=gini, classifier__max_depth=30;, score=0.813 total time=   3.9s\n",
            "[CV 2/3] END classifier__criterion=gini, classifier__max_depth=30;, score=0.826 total time=   3.8s\n",
            "[CV 3/3] END classifier__criterion=gini, classifier__max_depth=30;, score=0.828 total time=   3.7s\n",
            "[CV 1/3] END classifier__criterion=gini, classifier__max_depth=40;, score=0.816 total time=   4.3s\n",
            "[CV 2/3] END classifier__criterion=gini, classifier__max_depth=40;, score=0.819 total time=   4.2s\n",
            "[CV 3/3] END classifier__criterion=gini, classifier__max_depth=40;, score=0.827 total time=   4.2s\n",
            "[CV 1/3] END classifier__criterion=gini, classifier__max_depth=50;, score=0.811 total time=   4.5s\n",
            "[CV 2/3] END classifier__criterion=gini, classifier__max_depth=50;, score=0.817 total time=   4.5s\n",
            "[CV 3/3] END classifier__criterion=gini, classifier__max_depth=50;, score=0.825 total time=   4.5s\n",
            "[CV 1/3] END classifier__criterion=gini, classifier__max_depth=60;, score=0.811 total time=   4.8s\n",
            "[CV 2/3] END classifier__criterion=gini, classifier__max_depth=60;, score=0.817 total time=   4.7s\n",
            "[CV 3/3] END classifier__criterion=gini, classifier__max_depth=60;, score=0.828 total time=   4.9s\n",
            "[CV 1/3] END classifier__criterion=gini, classifier__max_depth=70;, score=0.810 total time=   5.0s\n",
            "[CV 2/3] END classifier__criterion=gini, classifier__max_depth=70;, score=0.816 total time=   5.0s\n",
            "[CV 3/3] END classifier__criterion=gini, classifier__max_depth=70;, score=0.824 total time=   5.0s\n",
            "[CV 1/3] END classifier__criterion=entropy, classifier__max_depth=30;, score=0.807 total time=   3.6s\n",
            "[CV 2/3] END classifier__criterion=entropy, classifier__max_depth=30;, score=0.820 total time=   3.6s\n",
            "[CV 3/3] END classifier__criterion=entropy, classifier__max_depth=30;, score=0.816 total time=   3.7s\n",
            "[CV 1/3] END classifier__criterion=entropy, classifier__max_depth=40;, score=0.806 total time=   4.0s\n",
            "[CV 2/3] END classifier__criterion=entropy, classifier__max_depth=40;, score=0.816 total time=   4.0s\n",
            "[CV 3/3] END classifier__criterion=entropy, classifier__max_depth=40;, score=0.813 total time=   4.0s\n",
            "[CV 1/3] END classifier__criterion=entropy, classifier__max_depth=50;, score=0.803 total time=   4.2s\n",
            "[CV 2/3] END classifier__criterion=entropy, classifier__max_depth=50;, score=0.817 total time=   4.2s\n",
            "[CV 3/3] END classifier__criterion=entropy, classifier__max_depth=50;, score=0.814 total time=   4.2s\n",
            "[CV 1/3] END classifier__criterion=entropy, classifier__max_depth=60;, score=0.804 total time=   4.3s\n",
            "[CV 2/3] END classifier__criterion=entropy, classifier__max_depth=60;, score=0.813 total time=   4.3s\n",
            "[CV 3/3] END classifier__criterion=entropy, classifier__max_depth=60;, score=0.811 total time=   4.3s\n",
            "[CV 1/3] END classifier__criterion=entropy, classifier__max_depth=70;, score=0.808 total time=   4.4s\n",
            "[CV 2/3] END classifier__criterion=entropy, classifier__max_depth=70;, score=0.811 total time=   4.3s\n",
            "[CV 3/3] END classifier__criterion=entropy, classifier__max_depth=70;, score=0.809 total time=   4.3s\n",
            "Fitting 3 folds for each of 10 candidates, totalling 30 fits\n",
            "[CV 1/3] END classifier__criterion=gini, classifier__max_depth=30;, score=0.820 total time=   4.3s\n",
            "[CV 2/3] END classifier__criterion=gini, classifier__max_depth=30;, score=0.827 total time=   4.4s\n",
            "[CV 3/3] END classifier__criterion=gini, classifier__max_depth=30;, score=0.822 total time=   4.3s\n",
            "[CV 1/3] END classifier__criterion=gini, classifier__max_depth=40;, score=0.819 total time=   4.9s\n",
            "[CV 2/3] END classifier__criterion=gini, classifier__max_depth=40;, score=0.830 total time=   5.0s\n",
            "[CV 3/3] END classifier__criterion=gini, classifier__max_depth=40;, score=0.821 total time=   4.9s\n",
            "[CV 1/3] END classifier__criterion=gini, classifier__max_depth=50;, score=0.822 total time=   5.1s\n",
            "[CV 2/3] END classifier__criterion=gini, classifier__max_depth=50;, score=0.824 total time=   5.3s\n",
            "[CV 3/3] END classifier__criterion=gini, classifier__max_depth=50;, score=0.823 total time=   5.3s\n",
            "[CV 1/3] END classifier__criterion=gini, classifier__max_depth=60;, score=0.821 total time=   5.3s\n",
            "[CV 2/3] END classifier__criterion=gini, classifier__max_depth=60;, score=0.827 total time=   5.5s\n",
            "[CV 3/3] END classifier__criterion=gini, classifier__max_depth=60;, score=0.819 total time=   5.5s\n",
            "[CV 1/3] END classifier__criterion=gini, classifier__max_depth=70;, score=0.818 total time=   5.5s\n",
            "[CV 2/3] END classifier__criterion=gini, classifier__max_depth=70;, score=0.822 total time=   5.6s\n",
            "[CV 3/3] END classifier__criterion=gini, classifier__max_depth=70;, score=0.814 total time=   5.7s\n",
            "[CV 1/3] END classifier__criterion=entropy, classifier__max_depth=30;, score=0.812 total time=   4.6s\n",
            "[CV 2/3] END classifier__criterion=entropy, classifier__max_depth=30;, score=0.812 total time=   4.3s\n",
            "[CV 3/3] END classifier__criterion=entropy, classifier__max_depth=30;, score=0.817 total time=   4.4s\n",
            "[CV 1/3] END classifier__criterion=entropy, classifier__max_depth=40;, score=0.805 total time=   5.0s\n",
            "[CV 2/3] END classifier__criterion=entropy, classifier__max_depth=40;, score=0.812 total time=   4.8s\n"
          ]
        },
        {
          "name": "stdout",
          "output_type": "stream",
          "text": [
            "[CV 3/3] END classifier__criterion=entropy, classifier__max_depth=40;, score=0.817 total time=   4.8s\n",
            "[CV 1/3] END classifier__criterion=entropy, classifier__max_depth=50;, score=0.803 total time=   5.2s\n",
            "[CV 2/3] END classifier__criterion=entropy, classifier__max_depth=50;, score=0.804 total time=   5.1s\n",
            "[CV 3/3] END classifier__criterion=entropy, classifier__max_depth=50;, score=0.809 total time=   5.0s\n",
            "[CV 1/3] END classifier__criterion=entropy, classifier__max_depth=60;, score=0.805 total time=   5.3s\n",
            "[CV 2/3] END classifier__criterion=entropy, classifier__max_depth=60;, score=0.805 total time=   5.2s\n",
            "[CV 3/3] END classifier__criterion=entropy, classifier__max_depth=60;, score=0.811 total time=   5.2s\n",
            "[CV 1/3] END classifier__criterion=entropy, classifier__max_depth=70;, score=0.801 total time=   5.4s\n",
            "[CV 2/3] END classifier__criterion=entropy, classifier__max_depth=70;, score=0.802 total time=   5.3s\n",
            "[CV 3/3] END classifier__criterion=entropy, classifier__max_depth=70;, score=0.809 total time=   5.3s\n",
            "Wall time: 7min 12s\n"
          ]
        }
      ],
      "source": [
        "%%time\n",
        "best_trees={}\n",
        "for key in train_datasets:\n",
        "  grid_search_tree = GridSearchCV(pipe_tree, parameters, scoring='f1', cv=3, verbose=3)\n",
        "  with tf.device('/device:GPU:0'):\n",
        "    grid_search_tree.fit(train_datasets[key],y_train)\n",
        "    best_trees[key]=grid_search_tree.best_estimator_"
      ]
    },
    {
      "cell_type": "code",
      "execution_count": null,
      "metadata": {
        "colab": {
          "base_uri": "https://localhost:8080/"
        },
        "id": "YO5o2hOSdqTQ",
        "outputId": "ed75545a-5004-45d7-c38b-cc0624ab6b9f"
      },
      "outputs": [
        {
          "name": "stdout",
          "output_type": "stream",
          "text": [
            "(7828,)\n"
          ]
        }
      ],
      "source": [
        "print(y_test.shape)"
      ]
    },
    {
      "cell_type": "code",
      "execution_count": null,
      "metadata": {
        "id": "w1Er-AJDjJDo"
      },
      "outputs": [],
      "source": [
        "model=best_trees[key]['classifier']\n",
        "y_pred=model.predict(test_datasets[key])"
      ]
    },
    {
      "cell_type": "code",
      "execution_count": null,
      "metadata": {
        "colab": {
          "base_uri": "https://localhost:8080/"
        },
        "id": "UALoONVvdssK",
        "outputId": "1faa64b3-4f97-48bd-c2ae-6eb4746d3d6c"
      },
      "outputs": [
        {
          "name": "stdout",
          "output_type": "stream",
          "text": [
            "(7828,)\n"
          ]
        }
      ],
      "source": [
        "print(y_pred.shape)"
      ]
    },
    {
      "cell_type": "code",
      "execution_count": null,
      "metadata": {
        "id": "bzdrQVjeURo0"
      },
      "outputs": [],
      "source": [
        "tree_results={}\n",
        "for key in best_trees:\n",
        "  model=best_trees[key]['classifier']\n",
        "  y_pred=model.predict(test_datasets[key])\n",
        "  acc=accuracy_score(y_true=y_test, y_pred=y_pred)\n",
        "  prec=precision_score(y_true=y_test, y_pred=y_pred)\n",
        "  recall=recall_score(y_true=y_test, y_pred=y_pred)\n",
        "  f1=f1_score(y_true=y_test, y_pred=y_pred)\n",
        "  tree_results[key]=[best_trees[key]['classifier'], acc, prec, recall, f1]"
      ]
    },
    {
      "cell_type": "code",
      "execution_count": null,
      "metadata": {
        "colab": {
          "base_uri": "https://localhost:8080/",
          "height": 143
        },
        "id": "NTID1L0NUVpF",
        "outputId": "47d88987-7a26-4e25-cc0b-221ea3cd793d"
      },
      "outputs": [
        {
          "data": {
            "text/html": [
              "<div>\n",
              "<style scoped>\n",
              "    .dataframe tbody tr th:only-of-type {\n",
              "        vertical-align: middle;\n",
              "    }\n",
              "\n",
              "    .dataframe tbody tr th {\n",
              "        vertical-align: top;\n",
              "    }\n",
              "\n",
              "    .dataframe thead th {\n",
              "        text-align: right;\n",
              "    }\n",
              "</style>\n",
              "<table border=\"1\" class=\"dataframe\">\n",
              "  <thead>\n",
              "    <tr style=\"text-align: right;\">\n",
              "      <th></th>\n",
              "      <th>Tree type</th>\n",
              "      <th>Accuracy</th>\n",
              "      <th>Precision</th>\n",
              "      <th>Recall</th>\n",
              "      <th>F1</th>\n",
              "    </tr>\n",
              "  </thead>\n",
              "  <tbody>\n",
              "    <tr>\n",
              "      <th>binary</th>\n",
              "      <td>DecisionTreeClassifier(max_depth=30, random_st...</td>\n",
              "      <td>0.856541</td>\n",
              "      <td>0.859660</td>\n",
              "      <td>0.801408</td>\n",
              "      <td>0.829513</td>\n",
              "    </tr>\n",
              "    <tr>\n",
              "      <th>count</th>\n",
              "      <td>DecisionTreeClassifier(max_depth=30, random_st...</td>\n",
              "      <td>0.858201</td>\n",
              "      <td>0.864111</td>\n",
              "      <td>0.800235</td>\n",
              "      <td>0.830947</td>\n",
              "    </tr>\n",
              "    <tr>\n",
              "      <th>tfidf</th>\n",
              "      <td>DecisionTreeClassifier(max_depth=30, random_st...</td>\n",
              "      <td>0.855391</td>\n",
              "      <td>0.857233</td>\n",
              "      <td>0.801408</td>\n",
              "      <td>0.828381</td>\n",
              "    </tr>\n",
              "  </tbody>\n",
              "</table>\n",
              "</div>"
            ],
            "text/plain": [
              "                                                Tree type  Accuracy  \\\n",
              "binary  DecisionTreeClassifier(max_depth=30, random_st...  0.856541   \n",
              "count   DecisionTreeClassifier(max_depth=30, random_st...  0.858201   \n",
              "tfidf   DecisionTreeClassifier(max_depth=30, random_st...  0.855391   \n",
              "\n",
              "        Precision    Recall        F1  \n",
              "binary   0.859660  0.801408  0.829513  \n",
              "count    0.864111  0.800235  0.830947  \n",
              "tfidf    0.857233  0.801408  0.828381  "
            ]
          },
          "execution_count": 38,
          "metadata": {},
          "output_type": "execute_result"
        }
      ],
      "source": [
        "df_results=pd.DataFrame.from_dict(tree_results, orient='index')\n",
        "mapping = {df_results.columns[1]: 'Accuracy', df_results.columns[2]: 'Precision', df_results.columns[3]: 'Recall', df_results.columns[4]: 'F1', df_results.columns[0]: 'Tree type'}\n",
        "df_results = df_results.rename(columns=mapping)\n",
        "df_results"
      ]
    },
    {
      "cell_type": "code",
      "execution_count": null,
      "metadata": {
        "colab": {
          "base_uri": "https://localhost:8080/"
        },
        "id": "Y_aRnUIQn-wP",
        "outputId": "fbd0292a-e473-40fe-9469-c954538e949e"
      },
      "outputs": [
        {
          "data": {
            "text/plain": [
              "{'binary': [DecisionTreeClassifier(max_depth=30, random_state=0),\n",
              "  0.8565406234031682,\n",
              "  0.8596601636249214,\n",
              "  0.801408037547668,\n",
              "  0.8295126764839836],\n",
              " 'count': [DecisionTreeClassifier(max_depth=30, random_state=0),\n",
              "  0.8582013285641288,\n",
              "  0.8641114982578397,\n",
              "  0.8002346729246114,\n",
              "  0.8309473042948524],\n",
              " 'tfidf': [DecisionTreeClassifier(max_depth=30, random_state=0),\n",
              "  0.85539090444558,\n",
              "  0.8572325070599309,\n",
              "  0.801408037547668,\n",
              "  0.8283808368708308]}"
            ]
          },
          "execution_count": 39,
          "metadata": {},
          "output_type": "execute_result"
        }
      ],
      "source": [
        "tree_results"
      ]
    },
    {
      "cell_type": "markdown",
      "metadata": {
        "id": "gyXSaTDngKNY"
      },
      "source": [
        "## 4.2 Algoritmo 2: KNN\n"
      ]
    },
    {
      "cell_type": "code",
      "execution_count": null,
      "metadata": {
        "id": "IKaepC86gLY7"
      },
      "outputs": [],
      "source": [
        "estimators = [\n",
        "        ('classifier', KNeighborsClassifier())          \n",
        "    ]\n",
        "\n",
        "parameters = {\n",
        "              'classifier__weights':['uniform','distance'],\n",
        "              'classifier__n_neighbors':[5,6,7,8,9,10,11,12],\n",
        "              'classifier__p':[1,2],\n",
        "            }\n",
        "\n",
        "pipe_knn = Pipeline(estimators)"
      ]
    },
    {
      "cell_type": "code",
      "execution_count": null,
      "metadata": {
        "colab": {
          "base_uri": "https://localhost:8080/"
        },
        "id": "Lao4xo9joMVq",
        "outputId": "17b5cf78-2383-4df5-f6d4-9dc086e35372"
      },
      "outputs": [
        {
          "name": "stdout",
          "output_type": "stream",
          "text": [
            "Fitting 3 folds for each of 32 candidates, totalling 96 fits\n",
            "[CV 1/3] END classifier__n_neighbors=5, classifier__p=1, classifier__weights=uniform;, score=0.620 total time=   8.1s\n",
            "[CV 2/3] END classifier__n_neighbors=5, classifier__p=1, classifier__weights=uniform;, score=0.644 total time=   7.0s\n",
            "[CV 3/3] END classifier__n_neighbors=5, classifier__p=1, classifier__weights=uniform;, score=0.648 total time=   7.8s\n",
            "[CV 1/3] END classifier__n_neighbors=5, classifier__p=1, classifier__weights=distance;, score=0.620 total time=   7.9s\n",
            "[CV 2/3] END classifier__n_neighbors=5, classifier__p=1, classifier__weights=distance;, score=0.645 total time=   6.9s\n",
            "[CV 3/3] END classifier__n_neighbors=5, classifier__p=1, classifier__weights=distance;, score=0.648 total time=   7.6s\n",
            "[CV 1/3] END classifier__n_neighbors=5, classifier__p=2, classifier__weights=uniform;, score=0.620 total time=   7.7s\n",
            "[CV 2/3] END classifier__n_neighbors=5, classifier__p=2, classifier__weights=uniform;, score=0.644 total time=   7.0s\n",
            "[CV 3/3] END classifier__n_neighbors=5, classifier__p=2, classifier__weights=uniform;, score=0.648 total time=   7.7s\n",
            "[CV 1/3] END classifier__n_neighbors=5, classifier__p=2, classifier__weights=distance;, score=0.620 total time=   7.5s\n",
            "[CV 2/3] END classifier__n_neighbors=5, classifier__p=2, classifier__weights=distance;, score=0.645 total time=   6.8s\n",
            "[CV 3/3] END classifier__n_neighbors=5, classifier__p=2, classifier__weights=distance;, score=0.648 total time=   7.4s\n",
            "[CV 1/3] END classifier__n_neighbors=6, classifier__p=1, classifier__weights=uniform;, score=0.532 total time=   8.1s\n",
            "[CV 2/3] END classifier__n_neighbors=6, classifier__p=1, classifier__weights=uniform;, score=0.558 total time=   7.0s\n",
            "[CV 3/3] END classifier__n_neighbors=6, classifier__p=1, classifier__weights=uniform;, score=0.571 total time=   8.1s\n",
            "[CV 1/3] END classifier__n_neighbors=6, classifier__p=1, classifier__weights=distance;, score=0.614 total time=   7.9s\n",
            "[CV 2/3] END classifier__n_neighbors=6, classifier__p=1, classifier__weights=distance;, score=0.641 total time=   6.9s\n",
            "[CV 3/3] END classifier__n_neighbors=6, classifier__p=1, classifier__weights=distance;, score=0.641 total time=   7.6s\n",
            "[CV 1/3] END classifier__n_neighbors=6, classifier__p=2, classifier__weights=uniform;, score=0.532 total time=   8.0s\n",
            "[CV 2/3] END classifier__n_neighbors=6, classifier__p=2, classifier__weights=uniform;, score=0.558 total time=   6.7s\n",
            "[CV 3/3] END classifier__n_neighbors=6, classifier__p=2, classifier__weights=uniform;, score=0.571 total time=   7.7s\n",
            "[CV 1/3] END classifier__n_neighbors=6, classifier__p=2, classifier__weights=distance;, score=0.614 total time=   7.9s\n",
            "[CV 2/3] END classifier__n_neighbors=6, classifier__p=2, classifier__weights=distance;, score=0.641 total time=   6.8s\n",
            "[CV 3/3] END classifier__n_neighbors=6, classifier__p=2, classifier__weights=distance;, score=0.641 total time=   7.5s\n",
            "[CV 1/3] END classifier__n_neighbors=7, classifier__p=1, classifier__weights=uniform;, score=0.605 total time=   8.0s\n",
            "[CV 2/3] END classifier__n_neighbors=7, classifier__p=1, classifier__weights=uniform;, score=0.630 total time=   7.1s\n",
            "[CV 3/3] END classifier__n_neighbors=7, classifier__p=1, classifier__weights=uniform;, score=0.639 total time=   7.8s\n",
            "[CV 1/3] END classifier__n_neighbors=7, classifier__p=1, classifier__weights=distance;, score=0.605 total time=   8.0s\n",
            "[CV 2/3] END classifier__n_neighbors=7, classifier__p=1, classifier__weights=distance;, score=0.631 total time=   6.8s\n",
            "[CV 3/3] END classifier__n_neighbors=7, classifier__p=1, classifier__weights=distance;, score=0.639 total time=   7.6s\n",
            "[CV 1/3] END classifier__n_neighbors=7, classifier__p=2, classifier__weights=uniform;, score=0.605 total time=   8.0s\n",
            "[CV 2/3] END classifier__n_neighbors=7, classifier__p=2, classifier__weights=uniform;, score=0.630 total time=   6.4s\n",
            "[CV 3/3] END classifier__n_neighbors=7, classifier__p=2, classifier__weights=uniform;, score=0.639 total time=   7.7s\n",
            "[CV 1/3] END classifier__n_neighbors=7, classifier__p=2, classifier__weights=distance;, score=0.605 total time=   7.8s\n",
            "[CV 2/3] END classifier__n_neighbors=7, classifier__p=2, classifier__weights=distance;, score=0.630 total time=   6.3s\n",
            "[CV 3/3] END classifier__n_neighbors=7, classifier__p=2, classifier__weights=distance;, score=0.639 total time=   7.5s\n",
            "[CV 1/3] END classifier__n_neighbors=8, classifier__p=1, classifier__weights=uniform;, score=0.537 total time=   8.0s\n",
            "[CV 2/3] END classifier__n_neighbors=8, classifier__p=1, classifier__weights=uniform;, score=0.558 total time=   7.0s\n",
            "[CV 3/3] END classifier__n_neighbors=8, classifier__p=1, classifier__weights=uniform;, score=0.571 total time=   7.8s\n",
            "[CV 1/3] END classifier__n_neighbors=8, classifier__p=1, classifier__weights=distance;, score=0.605 total time=   7.9s\n",
            "[CV 2/3] END classifier__n_neighbors=8, classifier__p=1, classifier__weights=distance;, score=0.636 total time=   6.9s\n",
            "[CV 3/3] END classifier__n_neighbors=8, classifier__p=1, classifier__weights=distance;, score=0.636 total time=   7.7s\n",
            "[CV 1/3] END classifier__n_neighbors=8, classifier__p=2, classifier__weights=uniform;, score=0.537 total time=   7.8s\n",
            "[CV 2/3] END classifier__n_neighbors=8, classifier__p=2, classifier__weights=uniform;, score=0.558 total time=   6.8s\n",
            "[CV 3/3] END classifier__n_neighbors=8, classifier__p=2, classifier__weights=uniform;, score=0.571 total time=   7.4s\n",
            "[CV 1/3] END classifier__n_neighbors=8, classifier__p=2, classifier__weights=distance;, score=0.606 total time=   7.6s\n",
            "[CV 2/3] END classifier__n_neighbors=8, classifier__p=2, classifier__weights=distance;, score=0.635 total time=   6.6s\n",
            "[CV 3/3] END classifier__n_neighbors=8, classifier__p=2, classifier__weights=distance;, score=0.636 total time=   7.1s\n",
            "[CV 1/3] END classifier__n_neighbors=9, classifier__p=1, classifier__weights=uniform;, score=0.593 total time=   8.1s\n",
            "[CV 2/3] END classifier__n_neighbors=9, classifier__p=1, classifier__weights=uniform;, score=0.616 total time=   7.0s\n",
            "[CV 3/3] END classifier__n_neighbors=9, classifier__p=1, classifier__weights=uniform;, score=0.629 total time=   7.8s\n",
            "[CV 1/3] END classifier__n_neighbors=9, classifier__p=1, classifier__weights=distance;, score=0.594 total time=   7.9s\n",
            "[CV 2/3] END classifier__n_neighbors=9, classifier__p=1, classifier__weights=distance;, score=0.616 total time=   6.9s\n",
            "[CV 3/3] END classifier__n_neighbors=9, classifier__p=1, classifier__weights=distance;, score=0.629 total time=   7.6s\n",
            "[CV 1/3] END classifier__n_neighbors=9, classifier__p=2, classifier__weights=uniform;, score=0.593 total time=   8.1s\n",
            "[CV 2/3] END classifier__n_neighbors=9, classifier__p=2, classifier__weights=uniform;, score=0.616 total time=   6.9s\n",
            "[CV 3/3] END classifier__n_neighbors=9, classifier__p=2, classifier__weights=uniform;, score=0.629 total time=   7.6s\n",
            "[CV 1/3] END classifier__n_neighbors=9, classifier__p=2, classifier__weights=distance;, score=0.593 total time=   7.9s\n",
            "[CV 2/3] END classifier__n_neighbors=9, classifier__p=2, classifier__weights=distance;, score=0.616 total time=   6.7s\n",
            "[CV 3/3] END classifier__n_neighbors=9, classifier__p=2, classifier__weights=distance;, score=0.629 total time=   7.6s\n",
            "[CV 1/3] END classifier__n_neighbors=10, classifier__p=1, classifier__weights=uniform;, score=0.524 total time=   8.1s\n",
            "[CV 2/3] END classifier__n_neighbors=10, classifier__p=1, classifier__weights=uniform;, score=0.555 total time=   7.0s\n",
            "[CV 3/3] END classifier__n_neighbors=10, classifier__p=1, classifier__weights=uniform;, score=0.568 total time=   7.8s\n",
            "[CV 1/3] END classifier__n_neighbors=10, classifier__p=1, classifier__weights=distance;, score=0.596 total time=   7.9s\n",
            "[CV 2/3] END classifier__n_neighbors=10, classifier__p=1, classifier__weights=distance;, score=0.622 total time=   6.8s\n",
            "[CV 3/3] END classifier__n_neighbors=10, classifier__p=1, classifier__weights=distance;, score=0.631 total time=   7.6s\n",
            "[CV 1/3] END classifier__n_neighbors=10, classifier__p=2, classifier__weights=uniform;, score=0.524 total time=   8.3s\n",
            "[CV 2/3] END classifier__n_neighbors=10, classifier__p=2, classifier__weights=uniform;, score=0.555 total time=   7.2s\n",
            "[CV 3/3] END classifier__n_neighbors=10, classifier__p=2, classifier__weights=uniform;, score=0.568 total time=   7.7s\n"
          ]
        },
        {
          "name": "stdout",
          "output_type": "stream",
          "text": [
            "[CV 1/3] END classifier__n_neighbors=10, classifier__p=2, classifier__weights=distance;, score=0.596 total time=   7.9s\n",
            "[CV 2/3] END classifier__n_neighbors=10, classifier__p=2, classifier__weights=distance;, score=0.621 total time=   6.7s\n",
            "[CV 3/3] END classifier__n_neighbors=10, classifier__p=2, classifier__weights=distance;, score=0.631 total time=   7.4s\n",
            "[CV 1/3] END classifier__n_neighbors=11, classifier__p=1, classifier__weights=uniform;, score=0.571 total time=   8.1s\n",
            "[CV 2/3] END classifier__n_neighbors=11, classifier__p=1, classifier__weights=uniform;, score=0.606 total time=   7.1s\n",
            "[CV 3/3] END classifier__n_neighbors=11, classifier__p=1, classifier__weights=uniform;, score=0.615 total time=   7.7s\n",
            "[CV 1/3] END classifier__n_neighbors=11, classifier__p=1, classifier__weights=distance;, score=0.571 total time=   7.9s\n",
            "[CV 2/3] END classifier__n_neighbors=11, classifier__p=1, classifier__weights=distance;, score=0.607 total time=   6.8s\n",
            "[CV 3/3] END classifier__n_neighbors=11, classifier__p=1, classifier__weights=distance;, score=0.616 total time=   7.6s\n",
            "[CV 1/3] END classifier__n_neighbors=11, classifier__p=2, classifier__weights=uniform;, score=0.571 total time=   8.1s\n",
            "[CV 2/3] END classifier__n_neighbors=11, classifier__p=2, classifier__weights=uniform;, score=0.606 total time=   6.9s\n",
            "[CV 3/3] END classifier__n_neighbors=11, classifier__p=2, classifier__weights=uniform;, score=0.615 total time=   7.5s\n",
            "[CV 1/3] END classifier__n_neighbors=11, classifier__p=2, classifier__weights=distance;, score=0.571 total time=   7.8s\n",
            "[CV 2/3] END classifier__n_neighbors=11, classifier__p=2, classifier__weights=distance;, score=0.606 total time=   6.7s\n",
            "[CV 3/3] END classifier__n_neighbors=11, classifier__p=2, classifier__weights=distance;, score=0.616 total time=   7.4s\n",
            "[CV 1/3] END classifier__n_neighbors=12, classifier__p=1, classifier__weights=uniform;, score=0.510 total time=   8.1s\n",
            "[CV 2/3] END classifier__n_neighbors=12, classifier__p=1, classifier__weights=uniform;, score=0.548 total time=   7.0s\n",
            "[CV 3/3] END classifier__n_neighbors=12, classifier__p=1, classifier__weights=uniform;, score=0.561 total time=   7.8s\n",
            "[CV 1/3] END classifier__n_neighbors=12, classifier__p=1, classifier__weights=distance;, score=0.578 total time=   7.9s\n",
            "[CV 2/3] END classifier__n_neighbors=12, classifier__p=1, classifier__weights=distance;, score=0.619 total time=   6.8s\n",
            "[CV 3/3] END classifier__n_neighbors=12, classifier__p=1, classifier__weights=distance;, score=0.624 total time=   7.6s\n",
            "[CV 1/3] END classifier__n_neighbors=12, classifier__p=2, classifier__weights=uniform;, score=0.510 total time=   8.0s\n",
            "[CV 2/3] END classifier__n_neighbors=12, classifier__p=2, classifier__weights=uniform;, score=0.548 total time=   7.0s\n",
            "[CV 3/3] END classifier__n_neighbors=12, classifier__p=2, classifier__weights=uniform;, score=0.561 total time=   7.3s\n",
            "[CV 1/3] END classifier__n_neighbors=12, classifier__p=2, classifier__weights=distance;, score=0.577 total time=   7.8s\n",
            "[CV 2/3] END classifier__n_neighbors=12, classifier__p=2, classifier__weights=distance;, score=0.618 total time=   6.7s\n",
            "[CV 3/3] END classifier__n_neighbors=12, classifier__p=2, classifier__weights=distance;, score=0.623 total time=   7.4s\n",
            "Fitting 3 folds for each of 32 candidates, totalling 96 fits\n",
            "[CV 1/3] END classifier__n_neighbors=5, classifier__p=1, classifier__weights=uniform;, score=0.624 total time=   8.0s\n",
            "[CV 2/3] END classifier__n_neighbors=5, classifier__p=1, classifier__weights=uniform;, score=0.640 total time=   7.2s\n",
            "[CV 3/3] END classifier__n_neighbors=5, classifier__p=1, classifier__weights=uniform;, score=0.655 total time=   7.8s\n",
            "[CV 1/3] END classifier__n_neighbors=5, classifier__p=1, classifier__weights=distance;, score=0.625 total time=   7.9s\n",
            "[CV 2/3] END classifier__n_neighbors=5, classifier__p=1, classifier__weights=distance;, score=0.641 total time=   7.0s\n",
            "[CV 3/3] END classifier__n_neighbors=5, classifier__p=1, classifier__weights=distance;, score=0.656 total time=   7.6s\n",
            "[CV 1/3] END classifier__n_neighbors=5, classifier__p=2, classifier__weights=uniform;, score=0.710 total time=   7.9s\n",
            "[CV 2/3] END classifier__n_neighbors=5, classifier__p=2, classifier__weights=uniform;, score=0.719 total time=   7.4s\n",
            "[CV 3/3] END classifier__n_neighbors=5, classifier__p=2, classifier__weights=uniform;, score=0.715 total time=   7.7s\n",
            "[CV 1/3] END classifier__n_neighbors=5, classifier__p=2, classifier__weights=distance;, score=0.710 total time=   7.7s\n",
            "[CV 2/3] END classifier__n_neighbors=5, classifier__p=2, classifier__weights=distance;, score=0.719 total time=   7.0s\n",
            "[CV 3/3] END classifier__n_neighbors=5, classifier__p=2, classifier__weights=distance;, score=0.716 total time=   7.5s\n",
            "[CV 1/3] END classifier__n_neighbors=6, classifier__p=1, classifier__weights=uniform;, score=0.527 total time=   8.0s\n",
            "[CV 2/3] END classifier__n_neighbors=6, classifier__p=1, classifier__weights=uniform;, score=0.561 total time=   7.1s\n",
            "[CV 3/3] END classifier__n_neighbors=6, classifier__p=1, classifier__weights=uniform;, score=0.578 total time=   7.8s\n",
            "[CV 1/3] END classifier__n_neighbors=6, classifier__p=1, classifier__weights=distance;, score=0.615 total time=   7.9s\n",
            "[CV 2/3] END classifier__n_neighbors=6, classifier__p=1, classifier__weights=distance;, score=0.642 total time=   7.0s\n",
            "[CV 3/3] END classifier__n_neighbors=6, classifier__p=1, classifier__weights=distance;, score=0.651 total time=   7.6s\n",
            "[CV 1/3] END classifier__n_neighbors=6, classifier__p=2, classifier__weights=uniform;, score=0.660 total time=   7.9s\n",
            "[CV 2/3] END classifier__n_neighbors=6, classifier__p=2, classifier__weights=uniform;, score=0.670 total time=   7.3s\n",
            "[CV 3/3] END classifier__n_neighbors=6, classifier__p=2, classifier__weights=uniform;, score=0.669 total time=   7.7s\n",
            "[CV 1/3] END classifier__n_neighbors=6, classifier__p=2, classifier__weights=distance;, score=0.713 total time=   7.8s\n",
            "[CV 2/3] END classifier__n_neighbors=6, classifier__p=2, classifier__weights=distance;, score=0.714 total time=   7.2s\n",
            "[CV 3/3] END classifier__n_neighbors=6, classifier__p=2, classifier__weights=distance;, score=0.716 total time=   7.5s\n",
            "[CV 1/3] END classifier__n_neighbors=7, classifier__p=1, classifier__weights=uniform;, score=0.604 total time=   8.1s\n",
            "[CV 2/3] END classifier__n_neighbors=7, classifier__p=1, classifier__weights=uniform;, score=0.632 total time=   7.1s\n",
            "[CV 3/3] END classifier__n_neighbors=7, classifier__p=1, classifier__weights=uniform;, score=0.646 total time=   7.8s\n",
            "[CV 1/3] END classifier__n_neighbors=7, classifier__p=1, classifier__weights=distance;, score=0.604 total time=   7.8s\n",
            "[CV 2/3] END classifier__n_neighbors=7, classifier__p=1, classifier__weights=distance;, score=0.633 total time=   7.0s\n",
            "[CV 3/3] END classifier__n_neighbors=7, classifier__p=1, classifier__weights=distance;, score=0.647 total time=   7.6s\n",
            "[CV 1/3] END classifier__n_neighbors=7, classifier__p=2, classifier__weights=uniform;, score=0.711 total time=   8.0s\n",
            "[CV 2/3] END classifier__n_neighbors=7, classifier__p=2, classifier__weights=uniform;, score=0.713 total time=   7.1s\n",
            "[CV 3/3] END classifier__n_neighbors=7, classifier__p=2, classifier__weights=uniform;, score=0.710 total time=   7.6s\n",
            "[CV 1/3] END classifier__n_neighbors=7, classifier__p=2, classifier__weights=distance;, score=0.711 total time=   7.8s\n",
            "[CV 2/3] END classifier__n_neighbors=7, classifier__p=2, classifier__weights=distance;, score=0.713 total time=   7.1s\n",
            "[CV 3/3] END classifier__n_neighbors=7, classifier__p=2, classifier__weights=distance;, score=0.711 total time=   7.5s\n",
            "[CV 1/3] END classifier__n_neighbors=8, classifier__p=1, classifier__weights=uniform;, score=0.526 total time=   8.0s\n",
            "[CV 2/3] END classifier__n_neighbors=8, classifier__p=1, classifier__weights=uniform;, score=0.566 total time=   7.1s\n",
            "[CV 3/3] END classifier__n_neighbors=8, classifier__p=1, classifier__weights=uniform;, score=0.584 total time=   7.8s\n",
            "[CV 1/3] END classifier__n_neighbors=8, classifier__p=1, classifier__weights=distance;, score=0.600 total time=   7.8s\n",
            "[CV 2/3] END classifier__n_neighbors=8, classifier__p=1, classifier__weights=distance;, score=0.636 total time=   7.0s\n",
            "[CV 3/3] END classifier__n_neighbors=8, classifier__p=1, classifier__weights=distance;, score=0.650 total time=   7.6s\n"
          ]
        },
        {
          "name": "stdout",
          "output_type": "stream",
          "text": [
            "[CV 1/3] END classifier__n_neighbors=8, classifier__p=2, classifier__weights=uniform;, score=0.663 total time=   8.0s\n",
            "[CV 2/3] END classifier__n_neighbors=8, classifier__p=2, classifier__weights=uniform;, score=0.669 total time=   7.3s\n",
            "[CV 3/3] END classifier__n_neighbors=8, classifier__p=2, classifier__weights=uniform;, score=0.673 total time=   7.7s\n",
            "[CV 1/3] END classifier__n_neighbors=8, classifier__p=2, classifier__weights=distance;, score=0.708 total time=   7.7s\n",
            "[CV 2/3] END classifier__n_neighbors=8, classifier__p=2, classifier__weights=distance;, score=0.713 total time=   7.1s\n",
            "[CV 3/3] END classifier__n_neighbors=8, classifier__p=2, classifier__weights=distance;, score=0.715 total time=   7.4s\n",
            "[CV 1/3] END classifier__n_neighbors=9, classifier__p=1, classifier__weights=uniform;, score=0.585 total time=   8.0s\n",
            "[CV 2/3] END classifier__n_neighbors=9, classifier__p=1, classifier__weights=uniform;, score=0.619 total time=   7.2s\n",
            "[CV 3/3] END classifier__n_neighbors=9, classifier__p=1, classifier__weights=uniform;, score=0.635 total time=   7.9s\n",
            "[CV 1/3] END classifier__n_neighbors=9, classifier__p=1, classifier__weights=distance;, score=0.586 total time=   7.9s\n",
            "[CV 2/3] END classifier__n_neighbors=9, classifier__p=1, classifier__weights=distance;, score=0.620 total time=   7.0s\n",
            "[CV 3/3] END classifier__n_neighbors=9, classifier__p=1, classifier__weights=distance;, score=0.636 total time=   7.6s\n",
            "[CV 1/3] END classifier__n_neighbors=9, classifier__p=2, classifier__weights=uniform;, score=0.702 total time=   8.0s\n",
            "[CV 2/3] END classifier__n_neighbors=9, classifier__p=2, classifier__weights=uniform;, score=0.711 total time=   7.3s\n",
            "[CV 3/3] END classifier__n_neighbors=9, classifier__p=2, classifier__weights=uniform;, score=0.710 total time=   7.6s\n",
            "[CV 1/3] END classifier__n_neighbors=9, classifier__p=2, classifier__weights=distance;, score=0.703 total time=   7.7s\n",
            "[CV 2/3] END classifier__n_neighbors=9, classifier__p=2, classifier__weights=distance;, score=0.711 total time=   7.1s\n",
            "[CV 3/3] END classifier__n_neighbors=9, classifier__p=2, classifier__weights=distance;, score=0.710 total time=   7.5s\n",
            "[CV 1/3] END classifier__n_neighbors=10, classifier__p=1, classifier__weights=uniform;, score=0.518 total time=   8.1s\n",
            "[CV 2/3] END classifier__n_neighbors=10, classifier__p=1, classifier__weights=uniform;, score=0.560 total time=   7.2s\n",
            "[CV 3/3] END classifier__n_neighbors=10, classifier__p=1, classifier__weights=uniform;, score=0.583 total time=   7.7s\n",
            "[CV 1/3] END classifier__n_neighbors=10, classifier__p=1, classifier__weights=distance;, score=0.591 total time=   7.8s\n",
            "[CV 2/3] END classifier__n_neighbors=10, classifier__p=1, classifier__weights=distance;, score=0.625 total time=   7.0s\n",
            "[CV 3/3] END classifier__n_neighbors=10, classifier__p=1, classifier__weights=distance;, score=0.641 total time=   7.6s\n",
            "[CV 1/3] END classifier__n_neighbors=10, classifier__p=2, classifier__weights=uniform;, score=0.666 total time=   8.0s\n",
            "[CV 2/3] END classifier__n_neighbors=10, classifier__p=2, classifier__weights=uniform;, score=0.673 total time=   7.4s\n",
            "[CV 3/3] END classifier__n_neighbors=10, classifier__p=2, classifier__weights=uniform;, score=0.675 total time=   7.6s\n",
            "[CV 1/3] END classifier__n_neighbors=10, classifier__p=2, classifier__weights=distance;, score=0.706 total time=   7.7s\n",
            "[CV 2/3] END classifier__n_neighbors=10, classifier__p=2, classifier__weights=distance;, score=0.712 total time=   7.2s\n",
            "[CV 3/3] END classifier__n_neighbors=10, classifier__p=2, classifier__weights=distance;, score=0.714 total time=   7.5s\n",
            "[CV 1/3] END classifier__n_neighbors=11, classifier__p=1, classifier__weights=uniform;, score=0.567 total time=   8.0s\n",
            "[CV 2/3] END classifier__n_neighbors=11, classifier__p=1, classifier__weights=uniform;, score=0.612 total time=   7.2s\n",
            "[CV 3/3] END classifier__n_neighbors=11, classifier__p=1, classifier__weights=uniform;, score=0.626 total time=   7.8s\n",
            "[CV 1/3] END classifier__n_neighbors=11, classifier__p=1, classifier__weights=distance;, score=0.567 total time=   7.8s\n",
            "[CV 2/3] END classifier__n_neighbors=11, classifier__p=1, classifier__weights=distance;, score=0.613 total time=   7.0s\n",
            "[CV 3/3] END classifier__n_neighbors=11, classifier__p=1, classifier__weights=distance;, score=0.626 total time=   7.6s\n",
            "[CV 1/3] END classifier__n_neighbors=11, classifier__p=2, classifier__weights=uniform;, score=0.698 total time=   8.0s\n",
            "[CV 2/3] END classifier__n_neighbors=11, classifier__p=2, classifier__weights=uniform;, score=0.704 total time=   7.3s\n",
            "[CV 3/3] END classifier__n_neighbors=11, classifier__p=2, classifier__weights=uniform;, score=0.704 total time=   7.5s\n",
            "[CV 1/3] END classifier__n_neighbors=11, classifier__p=2, classifier__weights=distance;, score=0.699 total time=   7.8s\n",
            "[CV 2/3] END classifier__n_neighbors=11, classifier__p=2, classifier__weights=distance;, score=0.704 total time=   7.2s\n",
            "[CV 3/3] END classifier__n_neighbors=11, classifier__p=2, classifier__weights=distance;, score=0.704 total time=   7.5s\n",
            "[CV 1/3] END classifier__n_neighbors=12, classifier__p=1, classifier__weights=uniform;, score=0.512 total time=   8.1s\n",
            "[CV 2/3] END classifier__n_neighbors=12, classifier__p=1, classifier__weights=uniform;, score=0.557 total time=   7.2s\n",
            "[CV 3/3] END classifier__n_neighbors=12, classifier__p=1, classifier__weights=uniform;, score=0.575 total time=   7.8s\n",
            "[CV 1/3] END classifier__n_neighbors=12, classifier__p=1, classifier__weights=distance;, score=0.572 total time=   7.8s\n",
            "[CV 2/3] END classifier__n_neighbors=12, classifier__p=1, classifier__weights=distance;, score=0.618 total time=   7.0s\n",
            "[CV 3/3] END classifier__n_neighbors=12, classifier__p=1, classifier__weights=distance;, score=0.634 total time=   8.0s\n",
            "[CV 1/3] END classifier__n_neighbors=12, classifier__p=2, classifier__weights=uniform;, score=0.668 total time=   7.9s\n",
            "[CV 2/3] END classifier__n_neighbors=12, classifier__p=2, classifier__weights=uniform;, score=0.671 total time=   7.3s\n",
            "[CV 3/3] END classifier__n_neighbors=12, classifier__p=2, classifier__weights=uniform;, score=0.675 total time=   7.6s\n",
            "[CV 1/3] END classifier__n_neighbors=12, classifier__p=2, classifier__weights=distance;, score=0.702 total time=   7.7s\n",
            "[CV 2/3] END classifier__n_neighbors=12, classifier__p=2, classifier__weights=distance;, score=0.708 total time=   7.1s\n",
            "[CV 3/3] END classifier__n_neighbors=12, classifier__p=2, classifier__weights=distance;, score=0.707 total time=   7.5s\n",
            "Fitting 3 folds for each of 32 candidates, totalling 96 fits\n",
            "[CV 1/3] END classifier__n_neighbors=5, classifier__p=1, classifier__weights=uniform;, score=0.001 total time=   8.0s\n",
            "[CV 2/3] END classifier__n_neighbors=5, classifier__p=1, classifier__weights=uniform;, score=0.001 total time=   7.1s\n",
            "[CV 3/3] END classifier__n_neighbors=5, classifier__p=1, classifier__weights=uniform;, score=0.001 total time=   7.8s\n",
            "[CV 1/3] END classifier__n_neighbors=5, classifier__p=1, classifier__weights=distance;, score=0.004 total time=   8.0s\n",
            "[CV 2/3] END classifier__n_neighbors=5, classifier__p=1, classifier__weights=distance;, score=0.004 total time=   6.9s\n",
            "[CV 3/3] END classifier__n_neighbors=5, classifier__p=1, classifier__weights=distance;, score=0.004 total time=   7.7s\n",
            "[CV 1/3] END classifier__n_neighbors=5, classifier__p=2, classifier__weights=uniform;, score=0.012 total time=   7.5s\n",
            "[CV 2/3] END classifier__n_neighbors=5, classifier__p=2, classifier__weights=uniform;, score=0.012 total time=   8.1s\n",
            "[CV 3/3] END classifier__n_neighbors=5, classifier__p=2, classifier__weights=uniform;, score=0.010 total time=   8.0s\n",
            "[CV 1/3] END classifier__n_neighbors=5, classifier__p=2, classifier__weights=distance;, score=0.013 total time=   7.3s\n",
            "[CV 2/3] END classifier__n_neighbors=5, classifier__p=2, classifier__weights=distance;, score=0.013 total time=   7.9s\n",
            "[CV 3/3] END classifier__n_neighbors=5, classifier__p=2, classifier__weights=distance;, score=0.011 total time=   7.8s\n",
            "[CV 1/3] END classifier__n_neighbors=6, classifier__p=1, classifier__weights=uniform;, score=0.000 total time=   8.0s\n",
            "[CV 2/3] END classifier__n_neighbors=6, classifier__p=1, classifier__weights=uniform;, score=0.001 total time=   7.1s\n",
            "[CV 3/3] END classifier__n_neighbors=6, classifier__p=1, classifier__weights=uniform;, score=0.000 total time=   7.8s\n"
          ]
        },
        {
          "name": "stdout",
          "output_type": "stream",
          "text": [
            "[CV 1/3] END classifier__n_neighbors=6, classifier__p=1, classifier__weights=distance;, score=0.002 total time=   7.9s\n",
            "[CV 2/3] END classifier__n_neighbors=6, classifier__p=1, classifier__weights=distance;, score=0.004 total time=   6.9s\n",
            "[CV 3/3] END classifier__n_neighbors=6, classifier__p=1, classifier__weights=distance;, score=0.003 total time=   7.6s\n",
            "[CV 1/3] END classifier__n_neighbors=6, classifier__p=2, classifier__weights=uniform;, score=0.006 total time=   7.5s\n",
            "[CV 2/3] END classifier__n_neighbors=6, classifier__p=2, classifier__weights=uniform;, score=0.007 total time=   8.1s\n",
            "[CV 3/3] END classifier__n_neighbors=6, classifier__p=2, classifier__weights=uniform;, score=0.007 total time=   8.1s\n",
            "[CV 1/3] END classifier__n_neighbors=6, classifier__p=2, classifier__weights=distance;, score=0.012 total time=   7.3s\n",
            "[CV 2/3] END classifier__n_neighbors=6, classifier__p=2, classifier__weights=distance;, score=0.013 total time=   7.9s\n",
            "[CV 3/3] END classifier__n_neighbors=6, classifier__p=2, classifier__weights=distance;, score=0.011 total time=   7.8s\n",
            "[CV 1/3] END classifier__n_neighbors=7, classifier__p=1, classifier__weights=uniform;, score=0.000 total time=   8.0s\n",
            "[CV 2/3] END classifier__n_neighbors=7, classifier__p=1, classifier__weights=uniform;, score=0.001 total time=   7.1s\n",
            "[CV 3/3] END classifier__n_neighbors=7, classifier__p=1, classifier__weights=uniform;, score=0.000 total time=   7.8s\n",
            "[CV 1/3] END classifier__n_neighbors=7, classifier__p=1, classifier__weights=distance;, score=0.001 total time=   7.8s\n",
            "[CV 2/3] END classifier__n_neighbors=7, classifier__p=1, classifier__weights=distance;, score=0.003 total time=   6.9s\n",
            "[CV 3/3] END classifier__n_neighbors=7, classifier__p=1, classifier__weights=distance;, score=0.003 total time=   7.7s\n",
            "[CV 1/3] END classifier__n_neighbors=7, classifier__p=2, classifier__weights=uniform;, score=0.007 total time=   7.3s\n",
            "[CV 2/3] END classifier__n_neighbors=7, classifier__p=2, classifier__weights=uniform;, score=0.007 total time=   8.0s\n",
            "[CV 3/3] END classifier__n_neighbors=7, classifier__p=2, classifier__weights=uniform;, score=0.007 total time=   8.0s\n",
            "[CV 1/3] END classifier__n_neighbors=7, classifier__p=2, classifier__weights=distance;, score=0.008 total time=   7.3s\n",
            "[CV 2/3] END classifier__n_neighbors=7, classifier__p=2, classifier__weights=distance;, score=0.008 total time=   7.7s\n",
            "[CV 3/3] END classifier__n_neighbors=7, classifier__p=2, classifier__weights=distance;, score=0.008 total time=   7.5s\n",
            "[CV 1/3] END classifier__n_neighbors=8, classifier__p=1, classifier__weights=uniform;, score=0.000 total time=   8.0s\n",
            "[CV 2/3] END classifier__n_neighbors=8, classifier__p=1, classifier__weights=uniform;, score=0.000 total time=   7.1s\n",
            "[CV 3/3] END classifier__n_neighbors=8, classifier__p=1, classifier__weights=uniform;, score=0.000 total time=   7.9s\n",
            "[CV 1/3] END classifier__n_neighbors=8, classifier__p=1, classifier__weights=distance;, score=0.001 total time=   8.0s\n",
            "[CV 2/3] END classifier__n_neighbors=8, classifier__p=1, classifier__weights=distance;, score=0.002 total time=   6.9s\n",
            "[CV 3/3] END classifier__n_neighbors=8, classifier__p=1, classifier__weights=distance;, score=0.003 total time=   7.6s\n",
            "[CV 1/3] END classifier__n_neighbors=8, classifier__p=2, classifier__weights=uniform;, score=0.004 total time=   7.5s\n",
            "[CV 2/3] END classifier__n_neighbors=8, classifier__p=2, classifier__weights=uniform;, score=0.006 total time=   8.1s\n",
            "[CV 3/3] END classifier__n_neighbors=8, classifier__p=2, classifier__weights=uniform;, score=0.006 total time=   8.0s\n",
            "[CV 1/3] END classifier__n_neighbors=8, classifier__p=2, classifier__weights=distance;, score=0.007 total time=   7.3s\n",
            "[CV 2/3] END classifier__n_neighbors=8, classifier__p=2, classifier__weights=distance;, score=0.008 total time=   7.9s\n",
            "[CV 3/3] END classifier__n_neighbors=8, classifier__p=2, classifier__weights=distance;, score=0.014 total time=   7.8s\n",
            "[CV 1/3] END classifier__n_neighbors=9, classifier__p=1, classifier__weights=uniform;, score=0.000 total time=   8.0s\n",
            "[CV 2/3] END classifier__n_neighbors=9, classifier__p=1, classifier__weights=uniform;, score=0.000 total time=   7.1s\n",
            "[CV 3/3] END classifier__n_neighbors=9, classifier__p=1, classifier__weights=uniform;, score=0.034 total time=   7.8s\n",
            "[CV 1/3] END classifier__n_neighbors=9, classifier__p=1, classifier__weights=distance;, score=0.001 total time=   7.8s\n",
            "[CV 2/3] END classifier__n_neighbors=9, classifier__p=1, classifier__weights=distance;, score=0.002 total time=   6.9s\n",
            "[CV 3/3] END classifier__n_neighbors=9, classifier__p=1, classifier__weights=distance;, score=0.031 total time=   7.6s\n",
            "[CV 1/3] END classifier__n_neighbors=9, classifier__p=2, classifier__weights=uniform;, score=0.005 total time=   7.5s\n",
            "[CV 2/3] END classifier__n_neighbors=9, classifier__p=2, classifier__weights=uniform;, score=0.006 total time=   8.0s\n",
            "[CV 3/3] END classifier__n_neighbors=9, classifier__p=2, classifier__weights=uniform;, score=0.593 total time=   8.0s\n",
            "[CV 1/3] END classifier__n_neighbors=9, classifier__p=2, classifier__weights=distance;, score=0.005 total time=   7.3s\n",
            "[CV 2/3] END classifier__n_neighbors=9, classifier__p=2, classifier__weights=distance;, score=0.006 total time=   7.9s\n",
            "[CV 3/3] END classifier__n_neighbors=9, classifier__p=2, classifier__weights=distance;, score=0.563 total time=   7.8s\n",
            "[CV 1/3] END classifier__n_neighbors=10, classifier__p=1, classifier__weights=uniform;, score=0.000 total time=   8.0s\n",
            "[CV 2/3] END classifier__n_neighbors=10, classifier__p=1, classifier__weights=uniform;, score=0.000 total time=   7.1s\n",
            "[CV 3/3] END classifier__n_neighbors=10, classifier__p=1, classifier__weights=uniform;, score=0.018 total time=   7.8s\n",
            "[CV 1/3] END classifier__n_neighbors=10, classifier__p=1, classifier__weights=distance;, score=0.001 total time=   7.9s\n",
            "[CV 2/3] END classifier__n_neighbors=10, classifier__p=1, classifier__weights=distance;, score=0.002 total time=   6.9s\n",
            "[CV 3/3] END classifier__n_neighbors=10, classifier__p=1, classifier__weights=distance;, score=0.020 total time=   7.7s\n",
            "[CV 1/3] END classifier__n_neighbors=10, classifier__p=2, classifier__weights=uniform;, score=0.004 total time=   7.3s\n",
            "[CV 2/3] END classifier__n_neighbors=10, classifier__p=2, classifier__weights=uniform;, score=0.003 total time=   8.1s\n",
            "[CV 3/3] END classifier__n_neighbors=10, classifier__p=2, classifier__weights=uniform;, score=0.558 total time=   7.8s\n",
            "[CV 1/3] END classifier__n_neighbors=10, classifier__p=2, classifier__weights=distance;, score=0.005 total time=   7.1s\n",
            "[CV 2/3] END classifier__n_neighbors=10, classifier__p=2, classifier__weights=distance;, score=0.006 total time=   7.9s\n",
            "[CV 3/3] END classifier__n_neighbors=10, classifier__p=2, classifier__weights=distance;, score=0.561 total time=   7.6s\n",
            "[CV 1/3] END classifier__n_neighbors=11, classifier__p=1, classifier__weights=uniform;, score=0.000 total time=   7.9s\n",
            "[CV 2/3] END classifier__n_neighbors=11, classifier__p=1, classifier__weights=uniform;, score=0.000 total time=   7.1s\n",
            "[CV 3/3] END classifier__n_neighbors=11, classifier__p=1, classifier__weights=uniform;, score=0.053 total time=   7.8s\n",
            "[CV 1/3] END classifier__n_neighbors=11, classifier__p=1, classifier__weights=distance;, score=0.001 total time=   7.8s\n",
            "[CV 2/3] END classifier__n_neighbors=11, classifier__p=1, classifier__weights=distance;, score=0.001 total time=   6.9s\n",
            "[CV 3/3] END classifier__n_neighbors=11, classifier__p=1, classifier__weights=distance;, score=0.050 total time=   7.7s\n",
            "[CV 1/3] END classifier__n_neighbors=11, classifier__p=2, classifier__weights=uniform;, score=0.004 total time=   7.5s\n",
            "[CV 2/3] END classifier__n_neighbors=11, classifier__p=2, classifier__weights=uniform;, score=0.004 total time=   8.1s\n",
            "[CV 3/3] END classifier__n_neighbors=11, classifier__p=2, classifier__weights=uniform;, score=0.716 total time=   8.0s\n",
            "[CV 1/3] END classifier__n_neighbors=11, classifier__p=2, classifier__weights=distance;, score=0.004 total time=   7.4s\n",
            "[CV 2/3] END classifier__n_neighbors=11, classifier__p=2, classifier__weights=distance;, score=0.004 total time=   7.8s\n",
            "[CV 3/3] END classifier__n_neighbors=11, classifier__p=2, classifier__weights=distance;, score=0.688 total time=   7.8s\n"
          ]
        },
        {
          "name": "stdout",
          "output_type": "stream",
          "text": [
            "[CV 1/3] END classifier__n_neighbors=12, classifier__p=1, classifier__weights=uniform;, score=0.000 total time=   8.0s\n",
            "[CV 2/3] END classifier__n_neighbors=12, classifier__p=1, classifier__weights=uniform;, score=0.000 total time=   7.2s\n",
            "[CV 3/3] END classifier__n_neighbors=12, classifier__p=1, classifier__weights=uniform;, score=0.033 total time=   7.8s\n",
            "[CV 1/3] END classifier__n_neighbors=12, classifier__p=1, classifier__weights=distance;, score=0.001 total time=   7.9s\n",
            "[CV 2/3] END classifier__n_neighbors=12, classifier__p=1, classifier__weights=distance;, score=0.001 total time=   6.9s\n",
            "[CV 3/3] END classifier__n_neighbors=12, classifier__p=1, classifier__weights=distance;, score=0.035 total time=   8.0s\n",
            "[CV 1/3] END classifier__n_neighbors=12, classifier__p=2, classifier__weights=uniform;, score=0.003 total time=   7.5s\n",
            "[CV 2/3] END classifier__n_neighbors=12, classifier__p=2, classifier__weights=uniform;, score=0.002 total time=   8.0s\n",
            "[CV 3/3] END classifier__n_neighbors=12, classifier__p=2, classifier__weights=uniform;, score=0.695 total time=   8.0s\n",
            "[CV 1/3] END classifier__n_neighbors=12, classifier__p=2, classifier__weights=distance;, score=0.004 total time=   7.3s\n",
            "[CV 2/3] END classifier__n_neighbors=12, classifier__p=2, classifier__weights=distance;, score=0.004 total time=   7.9s\n",
            "[CV 3/3] END classifier__n_neighbors=12, classifier__p=2, classifier__weights=distance;, score=0.696 total time=   7.8s\n",
            "Wall time: 36min 45s\n"
          ]
        }
      ],
      "source": [
        "%%time\n",
        "best_knn={}\n",
        "for key in train_datasets:\n",
        "  grid_search_knn = GridSearchCV(pipe_knn, parameters, scoring='f1', cv=3, verbose=3)\n",
        "  with tf.device('/device:GPU:0'):\n",
        "    grid_search_knn.fit(train_datasets[key],y_train)\n",
        "    best_knn[key]=grid_search_knn.best_estimator_"
      ]
    },
    {
      "cell_type": "code",
      "execution_count": null,
      "metadata": {
        "id": "JV37NjYGjD0e"
      },
      "outputs": [],
      "source": [
        "knn_results={}\n",
        "for key in best_knn:\n",
        "  model=best_knn[key]['classifier']\n",
        "  y_pred=model.predict(test_datasets[key])\n",
        "  acc=accuracy_score(y_true=y_test, y_pred=y_pred)\n",
        "  prec=precision_score(y_true=y_test, y_pred=y_pred)\n",
        "  recall=recall_score(y_true=y_test, y_pred=y_pred)\n",
        "  f1=f1_score(y_true=y_test, y_pred=y_pred)\n",
        "  knn_results[key]=[best_knn[key]['classifier'], acc, prec, recall, f1]"
      ]
    },
    {
      "cell_type": "code",
      "execution_count": null,
      "metadata": {
        "id": "m_hkrtKpf7cg",
        "outputId": "af9c5d62-e785-4068-8757-4167819eb281"
      },
      "outputs": [
        {
          "data": {
            "text/html": [
              "<div>\n",
              "<style scoped>\n",
              "    .dataframe tbody tr th:only-of-type {\n",
              "        vertical-align: middle;\n",
              "    }\n",
              "\n",
              "    .dataframe tbody tr th {\n",
              "        vertical-align: top;\n",
              "    }\n",
              "\n",
              "    .dataframe thead th {\n",
              "        text-align: right;\n",
              "    }\n",
              "</style>\n",
              "<table border=\"1\" class=\"dataframe\">\n",
              "  <thead>\n",
              "    <tr style=\"text-align: right;\">\n",
              "      <th></th>\n",
              "      <th>Tree type</th>\n",
              "      <th>Accuracy</th>\n",
              "      <th>Precision</th>\n",
              "      <th>Recall</th>\n",
              "      <th>F1</th>\n",
              "    </tr>\n",
              "  </thead>\n",
              "  <tbody>\n",
              "    <tr>\n",
              "      <th>binary</th>\n",
              "      <td>KNeighborsClassifier(p=1, weights='distance')</td>\n",
              "      <td>0.763158</td>\n",
              "      <td>0.893671</td>\n",
              "      <td>0.517747</td>\n",
              "      <td>0.655646</td>\n",
              "    </tr>\n",
              "    <tr>\n",
              "      <th>count</th>\n",
              "      <td>KNeighborsClassifier(weights='distance')</td>\n",
              "      <td>0.799821</td>\n",
              "      <td>0.872573</td>\n",
              "      <td>0.632737</td>\n",
              "      <td>0.733549</td>\n",
              "    </tr>\n",
              "    <tr>\n",
              "      <th>tfidf</th>\n",
              "      <td>KNeighborsClassifier(n_neighbors=11)</td>\n",
              "      <td>0.566045</td>\n",
              "      <td>0.833333</td>\n",
              "      <td>0.004400</td>\n",
              "      <td>0.008754</td>\n",
              "    </tr>\n",
              "  </tbody>\n",
              "</table>\n",
              "</div>"
            ],
            "text/plain": [
              "                                            Tree type  Accuracy  Precision  \\\n",
              "binary  KNeighborsClassifier(p=1, weights='distance')  0.763158   0.893671   \n",
              "count        KNeighborsClassifier(weights='distance')  0.799821   0.872573   \n",
              "tfidf            KNeighborsClassifier(n_neighbors=11)  0.566045   0.833333   \n",
              "\n",
              "          Recall        F1  \n",
              "binary  0.517747  0.655646  \n",
              "count   0.632737  0.733549  \n",
              "tfidf   0.004400  0.008754  "
            ]
          },
          "execution_count": 43,
          "metadata": {},
          "output_type": "execute_result"
        }
      ],
      "source": [
        "df_results=pd.DataFrame.from_dict(knn_results, orient='index')\n",
        "mapping = {df_results.columns[1]: 'Accuracy', df_results.columns[2]: 'Precision', df_results.columns[3]: 'Recall', df_results.columns[4]: 'F1', df_results.columns[0]: 'Tree type'}\n",
        "df_results = df_results.rename(columns=mapping)\n",
        "df_results"
      ]
    },
    {
      "cell_type": "markdown",
      "metadata": {
        "id": "nHzwD_tKh2mp"
      },
      "source": []
    },
    {
      "cell_type": "markdown",
      "metadata": {
        "id": "_B8eWejhgPVI"
      },
      "source": [
        "## 4.3 Algoritmo 3: SVM"
      ]
    },
    {
      "cell_type": "code",
      "execution_count": null,
      "metadata": {
        "id": "rZYspAW1gPjf"
      },
      "outputs": [],
      "source": [
        "estimators = [\n",
        "        ('classifier', SVC(C=1,gamma=\"scale\", kernel=\"rbf\" ))          \n",
        "    ]\n",
        "\n",
        "parameters = {\n",
        "              'classifier__C':[0.1, 1],\n",
        "              'classifier__gamma':['scale', 'auto'],\n",
        "              'classifier__kernel':['linear','rbf'],\n",
        "            }\n",
        "\n",
        "pipe_svm = Pipeline(estimators)"
      ]
    },
    {
      "cell_type": "code",
      "execution_count": null,
      "metadata": {
        "colab": {
          "base_uri": "https://localhost:8080/"
        },
        "id": "vG8m7qvekkS-",
        "outputId": "e3fd9fd9-50cc-440a-e6ba-977a83865538"
      },
      "outputs": [
        {
          "name": "stdout",
          "output_type": "stream",
          "text": [
            "Fitting 3 folds for each of 8 candidates, totalling 24 fits\n",
            "[CV 1/3] END classifier__C=0.1, classifier__gamma=scale, classifier__kernel=linear;, score=0.895 total time=  41.0s\n",
            "[CV 2/3] END classifier__C=0.1, classifier__gamma=scale, classifier__kernel=linear;, score=0.902 total time=  40.2s\n",
            "[CV 3/3] END classifier__C=0.1, classifier__gamma=scale, classifier__kernel=linear;, score=0.896 total time=  40.5s\n",
            "[CV 1/3] END classifier__C=0.1, classifier__gamma=scale, classifier__kernel=rbf;, score=0.844 total time= 1.4min\n",
            "[CV 2/3] END classifier__C=0.1, classifier__gamma=scale, classifier__kernel=rbf;, score=0.851 total time= 1.4min\n",
            "[CV 3/3] END classifier__C=0.1, classifier__gamma=scale, classifier__kernel=rbf;, score=0.847 total time= 1.4min\n",
            "[CV 1/3] END classifier__C=0.1, classifier__gamma=auto, classifier__kernel=linear;, score=0.895 total time=  41.1s\n",
            "[CV 2/3] END classifier__C=0.1, classifier__gamma=auto, classifier__kernel=linear;, score=0.902 total time=  40.4s\n",
            "[CV 3/3] END classifier__C=0.1, classifier__gamma=auto, classifier__kernel=linear;, score=0.896 total time=  40.5s\n",
            "[CV 1/3] END classifier__C=0.1, classifier__gamma=auto, classifier__kernel=rbf;, score=0.000 total time= 2.4min\n",
            "[CV 2/3] END classifier__C=0.1, classifier__gamma=auto, classifier__kernel=rbf;, score=0.002 total time= 2.3min\n",
            "[CV 3/3] END classifier__C=0.1, classifier__gamma=auto, classifier__kernel=rbf;, score=0.000 total time= 2.4min\n",
            "[CV 1/3] END classifier__C=1, classifier__gamma=scale, classifier__kernel=linear;, score=0.887 total time= 1.6min\n",
            "[CV 2/3] END classifier__C=1, classifier__gamma=scale, classifier__kernel=linear;, score=0.889 total time= 1.9min\n",
            "[CV 3/3] END classifier__C=1, classifier__gamma=scale, classifier__kernel=linear;, score=0.886 total time= 1.6min\n",
            "[CV 1/3] END classifier__C=1, classifier__gamma=scale, classifier__kernel=rbf;, score=0.887 total time= 2.1min\n",
            "[CV 2/3] END classifier__C=1, classifier__gamma=scale, classifier__kernel=rbf;, score=0.895 total time= 2.1min\n",
            "[CV 3/3] END classifier__C=1, classifier__gamma=scale, classifier__kernel=rbf;, score=0.891 total time= 2.1min\n",
            "[CV 1/3] END classifier__C=1, classifier__gamma=auto, classifier__kernel=linear;, score=0.887 total time= 1.7min\n",
            "[CV 2/3] END classifier__C=1, classifier__gamma=auto, classifier__kernel=linear;, score=0.889 total time= 2.0min\n",
            "[CV 3/3] END classifier__C=1, classifier__gamma=auto, classifier__kernel=linear;, score=0.886 total time= 1.6min\n",
            "[CV 1/3] END classifier__C=1, classifier__gamma=auto, classifier__kernel=rbf;, score=0.627 total time= 2.0min\n",
            "[CV 2/3] END classifier__C=1, classifier__gamma=auto, classifier__kernel=rbf;, score=0.631 total time= 1.9min\n",
            "[CV 3/3] END classifier__C=1, classifier__gamma=auto, classifier__kernel=rbf;, score=0.620 total time= 1.9min\n",
            "Fitting 3 folds for each of 8 candidates, totalling 24 fits\n",
            "[CV 1/3] END classifier__C=0.1, classifier__gamma=scale, classifier__kernel=linear;, score=0.891 total time=  52.0s\n",
            "[CV 2/3] END classifier__C=0.1, classifier__gamma=scale, classifier__kernel=linear;, score=0.897 total time=  53.2s\n",
            "[CV 3/3] END classifier__C=0.1, classifier__gamma=scale, classifier__kernel=linear;, score=0.890 total time=  53.4s\n",
            "[CV 1/3] END classifier__C=0.1, classifier__gamma=scale, classifier__kernel=rbf;, score=0.819 total time= 1.3min\n",
            "[CV 2/3] END classifier__C=0.1, classifier__gamma=scale, classifier__kernel=rbf;, score=0.822 total time= 1.3min\n",
            "[CV 3/3] END classifier__C=0.1, classifier__gamma=scale, classifier__kernel=rbf;, score=0.818 total time= 1.2min\n",
            "[CV 1/3] END classifier__C=0.1, classifier__gamma=auto, classifier__kernel=linear;, score=0.891 total time=  51.9s\n",
            "[CV 2/3] END classifier__C=0.1, classifier__gamma=auto, classifier__kernel=linear;, score=0.897 total time=  53.4s\n",
            "[CV 3/3] END classifier__C=0.1, classifier__gamma=auto, classifier__kernel=linear;, score=0.890 total time=  53.0s\n",
            "[CV 1/3] END classifier__C=0.1, classifier__gamma=auto, classifier__kernel=rbf;, score=0.289 total time= 2.3min\n",
            "[CV 2/3] END classifier__C=0.1, classifier__gamma=auto, classifier__kernel=rbf;, score=0.308 total time= 2.2min\n",
            "[CV 3/3] END classifier__C=0.1, classifier__gamma=auto, classifier__kernel=rbf;, score=0.291 total time= 2.3min\n",
            "[CV 1/3] END classifier__C=1, classifier__gamma=scale, classifier__kernel=linear;, score=0.880 total time= 2.3min\n",
            "[CV 2/3] END classifier__C=1, classifier__gamma=scale, classifier__kernel=linear;, score=0.886 total time= 2.1min\n",
            "[CV 3/3] END classifier__C=1, classifier__gamma=scale, classifier__kernel=linear;, score=0.881 total time= 2.2min\n",
            "[CV 1/3] END classifier__C=1, classifier__gamma=scale, classifier__kernel=rbf;, score=0.873 total time= 1.1min\n",
            "[CV 2/3] END classifier__C=1, classifier__gamma=scale, classifier__kernel=rbf;, score=0.877 total time=  55.6s\n",
            "[CV 3/3] END classifier__C=1, classifier__gamma=scale, classifier__kernel=rbf;, score=0.877 total time=  55.0s\n",
            "[CV 1/3] END classifier__C=1, classifier__gamma=auto, classifier__kernel=linear;, score=0.880 total time= 2.3min\n",
            "[CV 2/3] END classifier__C=1, classifier__gamma=auto, classifier__kernel=linear;, score=0.886 total time= 2.1min\n",
            "[CV 3/3] END classifier__C=1, classifier__gamma=auto, classifier__kernel=linear;, score=0.881 total time= 2.2min\n",
            "[CV 1/3] END classifier__C=1, classifier__gamma=auto, classifier__kernel=rbf;, score=0.661 total time= 1.7min\n",
            "[CV 2/3] END classifier__C=1, classifier__gamma=auto, classifier__kernel=rbf;, score=0.666 total time= 1.7min\n",
            "[CV 3/3] END classifier__C=1, classifier__gamma=auto, classifier__kernel=rbf;, score=0.658 total time= 1.7min\n",
            "Fitting 3 folds for each of 8 candidates, totalling 24 fits\n",
            "[CV 1/3] END classifier__C=0.1, classifier__gamma=scale, classifier__kernel=linear;, score=0.882 total time=  59.5s\n",
            "[CV 2/3] END classifier__C=0.1, classifier__gamma=scale, classifier__kernel=linear;, score=0.881 total time=  59.3s\n",
            "[CV 3/3] END classifier__C=0.1, classifier__gamma=scale, classifier__kernel=linear;, score=0.884 total time=  58.9s\n",
            "[CV 1/3] END classifier__C=0.1, classifier__gamma=scale, classifier__kernel=rbf;, score=0.849 total time= 1.4min\n",
            "[CV 2/3] END classifier__C=0.1, classifier__gamma=scale, classifier__kernel=rbf;, score=0.857 total time= 1.4min\n",
            "[CV 3/3] END classifier__C=0.1, classifier__gamma=scale, classifier__kernel=rbf;, score=0.852 total time= 1.4min\n",
            "[CV 1/3] END classifier__C=0.1, classifier__gamma=auto, classifier__kernel=linear;, score=0.882 total time=  59.6s\n",
            "[CV 2/3] END classifier__C=0.1, classifier__gamma=auto, classifier__kernel=linear;, score=0.881 total time=  58.9s\n",
            "[CV 3/3] END classifier__C=0.1, classifier__gamma=auto, classifier__kernel=linear;, score=0.884 total time=  58.3s\n",
            "[CV 1/3] END classifier__C=0.1, classifier__gamma=auto, classifier__kernel=rbf;, score=0.000 total time= 2.4min\n",
            "[CV 2/3] END classifier__C=0.1, classifier__gamma=auto, classifier__kernel=rbf;, score=0.000 total time= 2.3min\n",
            "[CV 3/3] END classifier__C=0.1, classifier__gamma=auto, classifier__kernel=rbf;, score=0.000 total time= 2.4min\n",
            "[CV 1/3] END classifier__C=1, classifier__gamma=scale, classifier__kernel=linear;, score=0.902 total time=  49.7s\n",
            "[CV 2/3] END classifier__C=1, classifier__gamma=scale, classifier__kernel=linear;, score=0.903 total time= 1.0min\n",
            "[CV 3/3] END classifier__C=1, classifier__gamma=scale, classifier__kernel=linear;, score=0.905 total time=  45.8s\n",
            "[CV 1/3] END classifier__C=1, classifier__gamma=scale, classifier__kernel=rbf;, score=0.902 total time= 2.2min\n",
            "[CV 2/3] END classifier__C=1, classifier__gamma=scale, classifier__kernel=rbf;, score=0.899 total time= 2.2min\n",
            "[CV 3/3] END classifier__C=1, classifier__gamma=scale, classifier__kernel=rbf;, score=0.903 total time= 2.2min\n",
            "[CV 1/3] END classifier__C=1, classifier__gamma=auto, classifier__kernel=linear;, score=0.902 total time=  48.8s\n",
            "[CV 2/3] END classifier__C=1, classifier__gamma=auto, classifier__kernel=linear;, score=0.903 total time= 1.0min\n",
            "[CV 3/3] END classifier__C=1, classifier__gamma=auto, classifier__kernel=linear;, score=0.905 total time=  45.7s\n",
            "[CV 1/3] END classifier__C=1, classifier__gamma=auto, classifier__kernel=rbf;, score=0.000 total time= 2.3min\n",
            "[CV 2/3] END classifier__C=1, classifier__gamma=auto, classifier__kernel=rbf;, score=0.000 total time= 2.3min\n"
          ]
        },
        {
          "name": "stdout",
          "output_type": "stream",
          "text": [
            "[CV 3/3] END classifier__C=1, classifier__gamma=auto, classifier__kernel=rbf;, score=0.000 total time= 2.3min\n",
            "Wall time: 1h 58min 8s\n"
          ]
        }
      ],
      "source": [
        "%%time\n",
        "best_svm={}\n",
        "for key in train_datasets:\n",
        "  grid_search_svm = GridSearchCV(pipe_svm, parameters, scoring='f1', cv=3, verbose=3)\n",
        "  with tf.device('/device:GPU:0'):\n",
        "    grid_search_svm.fit(train_datasets[key],y_train)\n",
        "    best_svm[key]=grid_search_svm.best_estimator_"
      ]
    },
    {
      "cell_type": "code",
      "execution_count": null,
      "metadata": {
        "id": "Dy1QuMchnoki"
      },
      "outputs": [],
      "source": [
        "svm_results={}\n",
        "for key in best_svm:\n",
        "  model=best_svm[key]['classifier']\n",
        "  y_pred=model.predict(test_datasets[key])\n",
        "  acc=accuracy_score(y_true=y_test, y_pred=y_pred)\n",
        "  prec=precision_score(y_true=y_test, y_pred=y_pred)\n",
        "  recall=recall_score(y_true=y_test, y_pred=y_pred)\n",
        "  f1=f1_score(y_true=y_test, y_pred=y_pred)\n",
        "  svm_results[key]=[best_svm[key]['classifier'], acc, prec, recall, f1]"
      ]
    },
    {
      "cell_type": "code",
      "execution_count": null,
      "metadata": {
        "id": "Mi92DY9zntd7",
        "outputId": "82258731-24a7-4f1b-9293-970add60e5cd"
      },
      "outputs": [
        {
          "data": {
            "text/html": [
              "<div>\n",
              "<style scoped>\n",
              "    .dataframe tbody tr th:only-of-type {\n",
              "        vertical-align: middle;\n",
              "    }\n",
              "\n",
              "    .dataframe tbody tr th {\n",
              "        vertical-align: top;\n",
              "    }\n",
              "\n",
              "    .dataframe thead th {\n",
              "        text-align: right;\n",
              "    }\n",
              "</style>\n",
              "<table border=\"1\" class=\"dataframe\">\n",
              "  <thead>\n",
              "    <tr style=\"text-align: right;\">\n",
              "      <th></th>\n",
              "      <th>Tree type</th>\n",
              "      <th>Accuracy</th>\n",
              "      <th>Precision</th>\n",
              "      <th>Recall</th>\n",
              "      <th>F1</th>\n",
              "    </tr>\n",
              "  </thead>\n",
              "  <tbody>\n",
              "    <tr>\n",
              "      <th>binary</th>\n",
              "      <td>SVC(C=0.1, kernel='linear')</td>\n",
              "      <td>0.920797</td>\n",
              "      <td>0.936190</td>\n",
              "      <td>0.877970</td>\n",
              "      <td>0.906146</td>\n",
              "    </tr>\n",
              "    <tr>\n",
              "      <th>count</th>\n",
              "      <td>SVC(C=0.1, kernel='linear')</td>\n",
              "      <td>0.918881</td>\n",
              "      <td>0.941158</td>\n",
              "      <td>0.867996</td>\n",
              "      <td>0.903098</td>\n",
              "    </tr>\n",
              "    <tr>\n",
              "      <th>tfidf</th>\n",
              "      <td>SVC(C=1, kernel='linear')</td>\n",
              "      <td>0.923863</td>\n",
              "      <td>0.925825</td>\n",
              "      <td>0.897037</td>\n",
              "      <td>0.911204</td>\n",
              "    </tr>\n",
              "  </tbody>\n",
              "</table>\n",
              "</div>"
            ],
            "text/plain": [
              "                          Tree type  Accuracy  Precision    Recall        F1\n",
              "binary  SVC(C=0.1, kernel='linear')  0.920797   0.936190  0.877970  0.906146\n",
              "count   SVC(C=0.1, kernel='linear')  0.918881   0.941158  0.867996  0.903098\n",
              "tfidf     SVC(C=1, kernel='linear')  0.923863   0.925825  0.897037  0.911204"
            ]
          },
          "execution_count": 47,
          "metadata": {},
          "output_type": "execute_result"
        }
      ],
      "source": [
        "df_results=pd.DataFrame.from_dict(svm_results, orient='index')\n",
        "mapping = {df_results.columns[1]: 'Accuracy', df_results.columns[2]: 'Precision', df_results.columns[3]: 'Recall', df_results.columns[4]: 'F1', df_results.columns[0]: 'Tree type'}\n",
        "df_results = df_results.rename(columns=mapping)\n",
        "df_results"
      ]
    },
    {
      "cell_type": "markdown",
      "metadata": {
        "id": "hSupKq-9gWo0"
      },
      "source": [
        "# V. Seleccion del mejor modelo"
      ]
    },
    {
      "cell_type": "code",
      "execution_count": null,
      "metadata": {
        "id": "EKNaJXHruMqY"
      },
      "outputs": [],
      "source": [
        "##notese que aqui se esta utilizando el df completo y no el fragmento 'data small' utilizado para la seleccion del modelo\n",
        "train, test = train_test_split(df, test_size=0.2, random_state=42)\n",
        "\n",
        "##aca se redefine ytrain y ytest\n",
        "X_full, y_train = train['text'], train['class']\n",
        "X_full_test, y_test = test['text'], test['class']\n",
        "X_full=X_full.apply(to_lowercase)\n",
        "X_full_test=X_full_test.apply(to_lowercase)\n",
        "X_full=X_full.apply(remove_punctuation)\n",
        "X_full_test=X_full_test.apply(remove_punctuation)\n",
        "X_full=X_full.apply(remove_stopwords)\n",
        "X_full_test=X_full_test.apply(remove_stopwords)\n",
        "X_full = X_full.apply(word_tokenize)\n",
        "X_full_test = X_full_test.apply(word_tokenize)\n",
        "X_full = X_full.apply(stem_and_lemmatize) \n",
        "X_full_test = X_full_test.apply(stem_and_lemmatize)"
      ]
    },
    {
      "cell_type": "code",
      "execution_count": null,
      "metadata": {
        "id": "VDaBuAn1ay1e",
        "outputId": "7e0fc5e8-361b-45f7-da74-9b0d0f5fb399"
      },
      "outputs": [
        {
          "data": {
            "text/plain": [
              "23821     [cal, suicid, hotlin, night, immens, help, wan...\n",
              "26059     [easiest, way, commit, suicide, don, ’, t, wan...\n",
              "118324    [hap, button, hap, button, could, join, group,...\n",
              "173322    [day, 4, tel, dream, bc, dream, crazy, stuff, ...\n",
              "Name: text, dtype: object"
            ]
          },
          "execution_count": 56,
          "metadata": {},
          "output_type": "execute_result"
        }
      ],
      "source": [
        "X_full.sample(4)"
      ]
    },
    {
      "cell_type": "code",
      "execution_count": null,
      "metadata": {
        "id": "NJX8JVivay1e",
        "outputId": "939b5a93-f4d1-4d7a-8e2b-52fad4579445"
      },
      "outputs": [
        {
          "name": "stdout",
          "output_type": "stream",
          "text": [
            "(156560, 125863)\n"
          ]
        }
      ],
      "source": [
        "#Se puede realizar la transformación Term-frecuency times inverse Document-frecuency.\n",
        "X_full = X_full.apply(lambda x: ' '.join(map(str, x)))\n",
        "X_full_test = X_full_test.apply(lambda x: ' '.join(map(str, x)))\n",
        "tf_idf = TfidfVectorizer()\n",
        "X_tf_idf = tf_idf.fit_transform(X_full)\n",
        "print(X_tf_idf.shape)"
      ]
    },
    {
      "cell_type": "code",
      "execution_count": null,
      "metadata": {
        "id": "CrbLQWLqay1e",
        "outputId": "161af42e-f9dc-4abe-a926-45c3f6c13348"
      },
      "outputs": [
        {
          "name": "stdout",
          "output_type": "stream",
          "text": [
            "(39140, 125863)\n"
          ]
        }
      ],
      "source": [
        "X_TfIdf_test=tf_idf.transform(X_full_test)\n",
        "print(X_TfIdf_test.shape)"
      ]
    },
    {
      "cell_type": "code",
      "execution_count": null,
      "metadata": {
        "id": "8nsqWmmAay1e"
      },
      "outputs": [],
      "source": [
        "train_datasets={\"tfidf\":X_tf_idf}\n",
        "test_datasets={\"tfidf\":X_TfIdf_test}"
      ]
    },
    {
      "cell_type": "markdown",
      "metadata": {
        "id": "wloFwIPnhNbr"
      },
      "source": [
        "# VI. Evaluacion de resultados"
      ]
    },
    {
      "cell_type": "markdown",
      "metadata": {
        "id": "8yHhy9FIay1f"
      },
      "source": [
        "## 6.1 metricas sobre set de test"
      ]
    },
    {
      "cell_type": "code",
      "execution_count": null,
      "metadata": {
        "id": "jWT7NfSpay1f",
        "outputId": "c59715fc-886c-4137-f7b6-f9cc3ceb25a3"
      },
      "outputs": [
        {
          "name": "stdout",
          "output_type": "stream",
          "text": [
            "SVM - Test\n",
            "               precision    recall  f1-score   support\n",
            "\n",
            "           0       0.94      0.95      0.94     22069\n",
            "           1       0.93      0.92      0.92     17071\n",
            "\n",
            "    accuracy                           0.93     39140\n",
            "   macro avg       0.93      0.93      0.93     39140\n",
            "weighted avg       0.93      0.93      0.93     39140\n",
            "\n"
          ]
        }
      ],
      "source": [
        "best_svm_model = SVC(C=1, kernel='linear', gamma='scale')\n",
        "best_svm_model.fit(X_tf_idf, y_train)\n",
        "y_pred_svm=best_svm_model.predict(X_TfIdf_test)\n",
        "\n",
        "\n",
        "report_svm = classification_report(y_test, y_pred_svm)\n",
        "print(\"SVM - Test\\n\", report_svm)"
      ]
    },
    {
      "cell_type": "code",
      "execution_count": null,
      "metadata": {
        "id": "SUQkbQItay1f",
        "outputId": "6e721ed3-14d0-4235-881e-a340c47f6a9a"
      },
      "outputs": [
        {
          "name": "stdout",
          "output_type": "stream",
          "text": [
            "Confusion matrix, without normalization\n"
          ]
        },
        {
          "data": {
            "text/plain": [
              "<AxesSubplot:title={'center':'SVM - Test data set'}, xlabel='Predicted label', ylabel='True label'>"
            ]
          },
          "execution_count": 75,
          "metadata": {},
          "output_type": "execute_result"
        },
        {
          "data": {
            "image/png": "[encoded data removed]",
            "text/plain": [
              "<Figure size 720x720 with 2 Axes>"
            ]
          },
          "metadata": {
            "needs_background": "light"
          },
          "output_type": "display_data"
        }
      ],
      "source": [
        "%matplotlib inline\n",
        "plot_confusion_matrix(y_true=y_test, y_pred=y_pred_svm, classes=[\"0 - non-suicide\",\"1 - Suicide\"],\n",
        "                      title='SVM - Test data set')"
      ]
    },
    {
      "cell_type": "markdown",
      "metadata": {
        "id": "5XBBlhcSay1f"
      },
      "source": [
        "## 6.2 creacion de labels"
      ]
    },
    {
      "cell_type": "code",
      "execution_count": null,
      "metadata": {
        "id": "2Cd1oOA0ay1f"
      },
      "outputs": [],
      "source": [
        "data_unlabeled = pd.read_csv('SuicidiosProyectoSinEtiqueta.csv',sep=',', encoding='utf-8')"
      ]
    },
    {
      "cell_type": "code",
      "execution_count": null,
      "metadata": {
        "id": "ro_LSAipay1f"
      },
      "outputs": [],
      "source": [
        "data_unlabeled=data_unlabeled.drop(data_unlabeled.columns[0], axis=1)"
      ]
    },
    {
      "cell_type": "code",
      "execution_count": null,
      "metadata": {
        "id": "MZvsX2Yday1f",
        "outputId": "7128195f-0be9-495b-af80-43d18523adf2"
      },
      "outputs": [
        {
          "data": {
            "text/html": [
              "<div>\n",
              "<style scoped>\n",
              "    .dataframe tbody tr th:only-of-type {\n",
              "        vertical-align: middle;\n",
              "    }\n",
              "\n",
              "    .dataframe tbody tr th {\n",
              "        vertical-align: top;\n",
              "    }\n",
              "\n",
              "    .dataframe thead th {\n",
              "        text-align: right;\n",
              "    }\n",
              "</style>\n",
              "<table border=\"1\" class=\"dataframe\">\n",
              "  <thead>\n",
              "    <tr style=\"text-align: right;\">\n",
              "      <th></th>\n",
              "      <th>text</th>\n",
              "    </tr>\n",
              "  </thead>\n",
              "  <tbody>\n",
              "    <tr>\n",
              "      <th>0</th>\n",
              "      <td>Suicide Thoughts Getting StrongerOK, since the...</td>\n",
              "    </tr>\n",
              "    <tr>\n",
              "      <th>1</th>\n",
              "      <td>Guys, I just asked my crush... if she wanted t...</td>\n",
              "    </tr>\n",
              "    <tr>\n",
              "      <th>2</th>\n",
              "      <td>I'm going to kill myselfOf course I'm not but ...</td>\n",
              "    </tr>\n",
              "    <tr>\n",
              "      <th>3</th>\n",
              "      <td>I did it! I slept facing the wall.\\n\\nOverall ...</td>\n",
              "    </tr>\n",
              "    <tr>\n",
              "      <th>4</th>\n",
              "      <td>I don't want to be dead...I want to be alive a...</td>\n",
              "    </tr>\n",
              "    <tr>\n",
              "      <th>...</th>\n",
              "      <td>...</td>\n",
              "    </tr>\n",
              "    <tr>\n",
              "      <th>10295</th>\n",
              "      <td>Last thing Brutus said to Julius Caesar after ...</td>\n",
              "    </tr>\n",
              "    <tr>\n",
              "      <th>10296</th>\n",
              "      <td>I’m ready to end my life right now.I just turn...</td>\n",
              "    </tr>\n",
              "    <tr>\n",
              "      <th>10297</th>\n",
              "      <td>Notice it’s the attractive girls that get preg...</td>\n",
              "    </tr>\n",
              "    <tr>\n",
              "      <th>10298</th>\n",
              "      <td>SighIt just get harder and harder to find new ...</td>\n",
              "    </tr>\n",
              "    <tr>\n",
              "      <th>10299</th>\n",
              "      <td>I'm gonna commit by October 1stThe reason I ha...</td>\n",
              "    </tr>\n",
              "  </tbody>\n",
              "</table>\n",
              "<p>10300 rows × 1 columns</p>\n",
              "</div>"
            ],
            "text/plain": [
              "                                                    text\n",
              "0      Suicide Thoughts Getting StrongerOK, since the...\n",
              "1      Guys, I just asked my crush... if she wanted t...\n",
              "2      I'm going to kill myselfOf course I'm not but ...\n",
              "3      I did it! I slept facing the wall.\\n\\nOverall ...\n",
              "4      I don't want to be dead...I want to be alive a...\n",
              "...                                                  ...\n",
              "10295  Last thing Brutus said to Julius Caesar after ...\n",
              "10296  I’m ready to end my life right now.I just turn...\n",
              "10297  Notice it’s the attractive girls that get preg...\n",
              "10298  SighIt just get harder and harder to find new ...\n",
              "10299  I'm gonna commit by October 1stThe reason I ha...\n",
              "\n",
              "[10300 rows x 1 columns]"
            ]
          },
          "execution_count": 153,
          "metadata": {},
          "output_type": "execute_result"
        }
      ],
      "source": [
        "data_unlabeled"
      ]
    },
    {
      "cell_type": "markdown",
      "metadata": {
        "id": "r3wHHsMbay1g"
      },
      "source": [
        "Se hace el procesamiento de texto para la nueva data entrante"
      ]
    },
    {
      "cell_type": "code",
      "execution_count": null,
      "metadata": {
        "id": "xlMORgIbay1g"
      },
      "outputs": [],
      "source": [
        "X_unlabeled = data_unlabeled['text']"
      ]
    },
    {
      "cell_type": "code",
      "execution_count": null,
      "metadata": {
        "id": "xj55atLkay1g"
      },
      "outputs": [],
      "source": [
        "X_unlabeled= X_unlabeled.apply(contractions.fix) \n",
        "X_unlabeled = X_unlabeled.apply(to_lowercase)\n",
        "X_unlabeled = X_unlabeled.apply(remove_punctuation)\n",
        "X_unlabeled = X_unlabeled.apply(remove_stopwords)\n",
        "X_unlabeled = X_unlabeled.apply(word_tokenize)\n",
        "X_unlabeled = X_unlabeled.apply(stem_and_lemmatize) "
      ]
    },
    {
      "cell_type": "code",
      "execution_count": null,
      "metadata": {
        "id": "0rELvYcSay1g"
      },
      "outputs": [],
      "source": [
        "X_unlabeled = X_unlabeled.apply(lambda x: ' '.join(map(str, x)))"
      ]
    },
    {
      "cell_type": "code",
      "execution_count": null,
      "metadata": {
        "id": "y4dFiE3iay1g"
      },
      "outputs": [],
      "source": [
        "X_TfIdf_new=tf_idf.transform(X_unlabeled)"
      ]
    },
    {
      "cell_type": "code",
      "execution_count": null,
      "metadata": {
        "id": "BKGj-HHkay1h"
      },
      "outputs": [],
      "source": [
        "new_y_labels=best_svm_model.predict(X_TfIdf_new)"
      ]
    },
    {
      "cell_type": "markdown",
      "metadata": {
        "id": "P_iLaFI2ay1h"
      },
      "source": [
        "Se verifica que la dimensionalidad de los labels coincida con los datos de entrada"
      ]
    },
    {
      "cell_type": "code",
      "execution_count": null,
      "metadata": {
        "id": "NeewpRyLay1h",
        "outputId": "ad8bdca5-3457-404a-9d32-aa60dce93907"
      },
      "outputs": [
        {
          "data": {
            "text/plain": [
              "(10300,)"
            ]
          },
          "execution_count": 159,
          "metadata": {},
          "output_type": "execute_result"
        }
      ],
      "source": [
        "new_y_labels.shape"
      ]
    },
    {
      "cell_type": "code",
      "execution_count": null,
      "metadata": {
        "id": "hHcu8Emfay1i"
      },
      "outputs": [],
      "source": [
        "data_unlabeled['class']=pd.Series(new_y_labels)"
      ]
    },
    {
      "cell_type": "code",
      "execution_count": null,
      "metadata": {
        "scrolled": true,
        "id": "meBbsDOSay1i",
        "outputId": "6e908c06-0a30-438c-8833-3619482ceeb1"
      },
      "outputs": [
        {
          "data": {
            "text/plain": [
              "text     object\n",
              "class     int64\n",
              "dtype: object"
            ]
          },
          "execution_count": 170,
          "metadata": {},
          "output_type": "execute_result"
        }
      ],
      "source": [
        "data_unlabeled.dtypes"
      ]
    },
    {
      "cell_type": "code",
      "execution_count": null,
      "metadata": {
        "id": "tpWHerXtay1i",
        "outputId": "533bda8b-3fda-4d13-90a0-660c81310b53"
      },
      "outputs": [
        {
          "data": {
            "text/html": [
              "<div>\n",
              "<style scoped>\n",
              "    .dataframe tbody tr th:only-of-type {\n",
              "        vertical-align: middle;\n",
              "    }\n",
              "\n",
              "    .dataframe tbody tr th {\n",
              "        vertical-align: top;\n",
              "    }\n",
              "\n",
              "    .dataframe thead th {\n",
              "        text-align: right;\n",
              "    }\n",
              "</style>\n",
              "<table border=\"1\" class=\"dataframe\">\n",
              "  <thead>\n",
              "    <tr style=\"text-align: right;\">\n",
              "      <th></th>\n",
              "      <th>text</th>\n",
              "      <th>class</th>\n",
              "    </tr>\n",
              "  </thead>\n",
              "  <tbody>\n",
              "    <tr>\n",
              "      <th>0</th>\n",
              "      <td>Suicide Thoughts Getting StrongerOK, since the...</td>\n",
              "      <td>suicide</td>\n",
              "    </tr>\n",
              "    <tr>\n",
              "      <th>1</th>\n",
              "      <td>Guys, I just asked my crush... if she wanted t...</td>\n",
              "      <td>non-suicide</td>\n",
              "    </tr>\n",
              "    <tr>\n",
              "      <th>2</th>\n",
              "      <td>I'm going to kill myselfOf course I'm not but ...</td>\n",
              "      <td>suicide</td>\n",
              "    </tr>\n",
              "    <tr>\n",
              "      <th>3</th>\n",
              "      <td>I did it! I slept facing the wall.\\n\\nOverall ...</td>\n",
              "      <td>non-suicide</td>\n",
              "    </tr>\n",
              "    <tr>\n",
              "      <th>4</th>\n",
              "      <td>I don't want to be dead...I want to be alive a...</td>\n",
              "      <td>suicide</td>\n",
              "    </tr>\n",
              "    <tr>\n",
              "      <th>...</th>\n",
              "      <td>...</td>\n",
              "      <td>...</td>\n",
              "    </tr>\n",
              "    <tr>\n",
              "      <th>10295</th>\n",
              "      <td>Last thing Brutus said to Julius Caesar after ...</td>\n",
              "      <td>non-suicide</td>\n",
              "    </tr>\n",
              "    <tr>\n",
              "      <th>10296</th>\n",
              "      <td>I’m ready to end my life right now.I just turn...</td>\n",
              "      <td>suicide</td>\n",
              "    </tr>\n",
              "    <tr>\n",
              "      <th>10297</th>\n",
              "      <td>Notice it’s the attractive girls that get preg...</td>\n",
              "      <td>non-suicide</td>\n",
              "    </tr>\n",
              "    <tr>\n",
              "      <th>10298</th>\n",
              "      <td>SighIt just get harder and harder to find new ...</td>\n",
              "      <td>suicide</td>\n",
              "    </tr>\n",
              "    <tr>\n",
              "      <th>10299</th>\n",
              "      <td>I'm gonna commit by October 1stThe reason I ha...</td>\n",
              "      <td>suicide</td>\n",
              "    </tr>\n",
              "  </tbody>\n",
              "</table>\n",
              "<p>10300 rows × 2 columns</p>\n",
              "</div>"
            ],
            "text/plain": [
              "                                                    text        class\n",
              "0      Suicide Thoughts Getting StrongerOK, since the...      suicide\n",
              "1      Guys, I just asked my crush... if she wanted t...  non-suicide\n",
              "2      I'm going to kill myselfOf course I'm not but ...      suicide\n",
              "3      I did it! I slept facing the wall.\\n\\nOverall ...  non-suicide\n",
              "4      I don't want to be dead...I want to be alive a...      suicide\n",
              "...                                                  ...          ...\n",
              "10295  Last thing Brutus said to Julius Caesar after ...  non-suicide\n",
              "10296  I’m ready to end my life right now.I just turn...      suicide\n",
              "10297  Notice it’s the attractive girls that get preg...  non-suicide\n",
              "10298  SighIt just get harder and harder to find new ...      suicide\n",
              "10299  I'm gonna commit by October 1stThe reason I ha...      suicide\n",
              "\n",
              "[10300 rows x 2 columns]"
            ]
          },
          "execution_count": 171,
          "metadata": {},
          "output_type": "execute_result"
        }
      ],
      "source": [
        "data_unlabeled['class'].replace((1), ('suicide'), inplace=True)\n",
        "data_unlabeled['class'].replace((0), ('non-suicide'), inplace=True)\n",
        "data_unlabeled"
      ]
    },
    {
      "cell_type": "markdown",
      "metadata": {
        "id": "TmxVRnlQay1j"
      },
      "source": [
        "Se exporta el resultado a un CSV"
      ]
    },
    {
      "cell_type": "code",
      "execution_count": null,
      "metadata": {
        "id": "Bts0rqAtay1j"
      },
      "outputs": [],
      "source": [
        "data_unlabeled.to_csv (r'Resultados_suicidio.csv', index = False, header=True)"
      ]
    },
    {
      "cell_type": "markdown",
      "metadata": {
        "id": "-IhWV19kay1j"
      },
      "source": [
        "Se exportan los modelos resultantes"
      ]
    },
    {
      "cell_type": "code",
      "execution_count": null,
      "metadata": {
        "id": "zYY5zP4Say1j",
        "outputId": "227629eb-3f33-433b-f9a5-813e578e3eb3"
      },
      "outputs": [
        {
          "data": {
            "text/plain": [
              "['SVM_suicidio_proy1.joblib']"
            ]
          },
          "execution_count": 174,
          "metadata": {},
          "output_type": "execute_result"
        }
      ],
      "source": [
        "from joblib import dump, load\n",
        "dump(best_svm_model, 'SVM_suicidio_proy1.joblib') "
      ]
    }
  ],
  "metadata": {
    "colab": {
      "collapsed_sections": [],
      "provenance": [],
      "include_colab_link": true
    },
    "kernelspec": {
      "display_name": "Python 3 (ipykernel)",
      "language": "python",
      "name": "python3"
    },
    "language_info": {
      "codemirror_mode": {
        "name": "ipython",
        "version": 3
      },
      "file_extension": ".py",
      "mimetype": "text/x-python",
      "name": "python",
      "nbconvert_exporter": "python",
      "pygments_lexer": "ipython3",
      "version": "3.9.7"
    }
  },
  "nbformat": 4,
  "nbformat_minor": 0
}